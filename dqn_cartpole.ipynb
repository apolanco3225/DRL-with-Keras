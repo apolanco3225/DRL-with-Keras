{
 "cells": [
  {
   "cell_type": "code",
   "execution_count": 9,
   "metadata": {},
   "outputs": [],
   "source": [
    "import numpy as np\n",
    "import gym\n",
    "from keras.models import Sequential\n",
    "from keras.layers import Dense, Activation, Flatten\n",
    "from keras.optimizers import Adam\n",
    "from rl.agents.dqn import DQNAgent\n",
    "from rl.policy import EpsGreedyQPolicy\n",
    "from rl.memory import SequentialMemory"
   ]
  },
  {
   "cell_type": "code",
   "execution_count": 2,
   "metadata": {
    "collapsed": true
   },
   "outputs": [],
   "source": [
    "ENV_NAME = 'CartPole-v0'\n",
    "env = gym.make(ENV_NAME)\n",
    "np.random.seed(123)\n",
    "env.seed(123)\n",
    "nb_actions = env.action_space.n"
   ]
  },
  {
   "cell_type": "code",
   "execution_count": 3,
   "metadata": {},
   "outputs": [
    {
     "name": "stdout",
     "output_type": "stream",
     "text": [
      "2\n"
     ]
    }
   ],
   "source": [
    "print(nb_actions)"
   ]
  },
  {
   "cell_type": "code",
   "execution_count": 5,
   "metadata": {},
   "outputs": [
    {
     "name": "stdout",
     "output_type": "stream",
     "text": [
      "_________________________________________________________________\n",
      "Layer (type)                 Output Shape              Param #   \n",
      "=================================================================\n",
      "flatten_2 (Flatten)          (None, 4)                 0         \n",
      "_________________________________________________________________\n",
      "dense_3 (Dense)              (None, 16)                80        \n",
      "_________________________________________________________________\n",
      "activation_2 (Activation)    (None, 16)                0         \n",
      "_________________________________________________________________\n",
      "dense_4 (Dense)              (None, 2)                 34        \n",
      "_________________________________________________________________\n",
      "activation_3 (Activation)    (None, 2)                 0         \n",
      "=================================================================\n",
      "Total params: 114\n",
      "Trainable params: 114\n",
      "Non-trainable params: 0\n",
      "_________________________________________________________________\n",
      "None\n"
     ]
    }
   ],
   "source": [
    "model = Sequential()\n",
    "model.add(Flatten(input_shape=(1, ) + env.observation_space.shape))\n",
    "model.add(Dense(16))\n",
    "model.add(Activation('relu'))\n",
    "model.add(Dense(nb_actions))\n",
    "model.add(Activation('linear'))\n",
    "print(model.summary())"
   ]
  },
  {
   "cell_type": "code",
   "execution_count": 10,
   "metadata": {},
   "outputs": [],
   "source": [
    "policy = EpsGreedyQPolicy()\n",
    "memory = SequentialMemory(limit=50000, window_length=1)\n",
    "dqn = DQNAgent(model=model, nb_actions=nb_actions, memory=memory, nb_steps_warmup=10,\n",
    "              target_model_update=1e-2, policy=policy)\n",
    "dqn.compile(Adam(lr=1e-3), metrics=['mae'])"
   ]
  },
  {
   "cell_type": "code",
   "execution_count": 11,
   "metadata": {},
   "outputs": [
    {
     "name": "stdout",
     "output_type": "stream",
     "text": [
      "Training for 5000 steps ...\n"
     ]
    },
    {
     "name": "stderr",
     "output_type": "stream",
     "text": [
      "/home/apolanco/anaconda3/lib/python3.6/site-packages/keras_rl-0.4.2-py3.6.egg/rl/memory.py:39: UserWarning: Not enough entries to sample without replacement. Consider increasing your warm-up phase to avoid oversampling!\n",
      "  warnings.warn('Not enough entries to sample without replacement. Consider increasing your warm-up phase to avoid oversampling!')\n"
     ]
    },
    {
     "name": "stdout",
     "output_type": "stream",
     "text": [
      "   23/5000: episode: 1, duration: 5.025s, episode steps: 23, steps per second: 5, episode reward: 23.000, mean reward: 1.000 [1.000, 1.000], mean action: 0.522 [0.000, 1.000], mean observation: -0.095 [-1.161, 0.401], loss: 0.529258, mean_absolute_error: 0.596812, mean_q: 0.249399\n",
      "   33/5000: episode: 2, duration: 0.165s, episode steps: 10, steps per second: 61, episode reward: 10.000, mean reward: 1.000 [1.000, 1.000], mean action: 0.100 [0.000, 1.000], mean observation: 0.154 [-1.520, 2.585], loss: 0.474986, mean_absolute_error: 0.628987, mean_q: 0.356089\n"
     ]
    },
    {
     "name": "stderr",
     "output_type": "stream",
     "text": [
      "/home/apolanco/anaconda3/lib/python3.6/site-packages/keras_rl-0.4.2-py3.6.egg/rl/memory.py:39: UserWarning: Not enough entries to sample without replacement. Consider increasing your warm-up phase to avoid oversampling!\n",
      "  warnings.warn('Not enough entries to sample without replacement. Consider increasing your warm-up phase to avoid oversampling!')\n"
     ]
    },
    {
     "name": "stdout",
     "output_type": "stream",
     "text": [
      "   43/5000: episode: 3, duration: 0.166s, episode steps: 10, steps per second: 60, episode reward: 10.000, mean reward: 1.000 [1.000, 1.000], mean action: 0.100 [0.000, 1.000], mean observation: 0.162 [-1.709, 2.745], loss: 0.413335, mean_absolute_error: 0.667680, mean_q: 0.325963\n",
      "   54/5000: episode: 4, duration: 0.183s, episode steps: 11, steps per second: 60, episode reward: 11.000, mean reward: 1.000 [1.000, 1.000], mean action: 0.091 [0.000, 1.000], mean observation: 0.109 [-1.783, 2.779], loss: 0.419903, mean_absolute_error: 0.670422, mean_q: 0.372935\n",
      "   67/5000: episode: 5, duration: 0.216s, episode steps: 13, steps per second: 60, episode reward: 13.000, mean reward: 1.000 [1.000, 1.000], mean action: 0.077 [0.000, 1.000], mean observation: 0.115 [-2.109, 3.254], loss: 0.350571, mean_absolute_error: 0.646997, mean_q: 0.467338\n",
      "   76/5000: episode: 6, duration: 0.151s, episode steps: 9, steps per second: 60, episode reward: 9.000, mean reward: 1.000 [1.000, 1.000], mean action: 0.000 [0.000, 0.000], mean observation: 0.154 [-1.753, 2.794], loss: 0.293277, mean_absolute_error: 0.603667, mean_q: 0.556214\n",
      "   86/5000: episode: 7, duration: 0.165s, episode steps: 10, steps per second: 61, episode reward: 10.000, mean reward: 1.000 [1.000, 1.000], mean action: 0.000 [0.000, 0.000], mean observation: 0.155 [-1.913, 3.101], loss: 0.282381, mean_absolute_error: 0.581643, mean_q: 0.621658\n",
      "   95/5000: episode: 8, duration: 0.150s, episode steps: 9, steps per second: 60, episode reward: 9.000, mean reward: 1.000 [1.000, 1.000], mean action: 0.000 [0.000, 0.000], mean observation: 0.139 [-1.763, 2.739], loss: 0.213165, mean_absolute_error: 0.543234, mean_q: 0.746747\n",
      "  106/5000: episode: 9, duration: 0.183s, episode steps: 11, steps per second: 60, episode reward: 11.000, mean reward: 1.000 [1.000, 1.000], mean action: 0.091 [0.000, 1.000], mean observation: 0.147 [-1.718, 2.861], loss: 0.239911, mean_absolute_error: 0.548103, mean_q: 0.815219\n",
      "  115/5000: episode: 10, duration: 0.149s, episode steps: 9, steps per second: 60, episode reward: 9.000, mean reward: 1.000 [1.000, 1.000], mean action: 0.111 [0.000, 1.000], mean observation: 0.122 [-1.390, 2.295], loss: 0.233303, mean_absolute_error: 0.523722, mean_q: 0.866943\n",
      "  125/5000: episode: 11, duration: 0.166s, episode steps: 10, steps per second: 60, episode reward: 10.000, mean reward: 1.000 [1.000, 1.000], mean action: 0.100 [0.000, 1.000], mean observation: 0.137 [-1.594, 2.521], loss: 0.255119, mean_absolute_error: 0.537608, mean_q: 0.918503\n",
      "  135/5000: episode: 12, duration: 0.167s, episode steps: 10, steps per second: 60, episode reward: 10.000, mean reward: 1.000 [1.000, 1.000], mean action: 0.000 [0.000, 0.000], mean observation: 0.158 [-1.915, 3.108], loss: 0.245055, mean_absolute_error: 0.498877, mean_q: 0.981142\n",
      "  145/5000: episode: 13, duration: 0.166s, episode steps: 10, steps per second: 60, episode reward: 10.000, mean reward: 1.000 [1.000, 1.000], mean action: 0.000 [0.000, 0.000], mean observation: 0.150 [-1.912, 3.013], loss: 0.254912, mean_absolute_error: 0.499317, mean_q: 1.067142\n",
      "  155/5000: episode: 14, duration: 0.166s, episode steps: 10, steps per second: 60, episode reward: 10.000, mean reward: 1.000 [1.000, 1.000], mean action: 0.000 [0.000, 0.000], mean observation: 0.151 [-1.939, 3.082], loss: 0.267752, mean_absolute_error: 0.505006, mean_q: 1.119213\n",
      "  164/5000: episode: 15, duration: 0.150s, episode steps: 9, steps per second: 60, episode reward: 9.000, mean reward: 1.000 [1.000, 1.000], mean action: 0.000 [0.000, 0.000], mean observation: 0.137 [-1.768, 2.831], loss: 0.239875, mean_absolute_error: 0.457170, mean_q: 1.279013\n",
      "  172/5000: episode: 16, duration: 0.133s, episode steps: 8, steps per second: 60, episode reward: 8.000, mean reward: 1.000 [1.000, 1.000], mean action: 0.000 [0.000, 0.000], mean observation: 0.142 [-1.558, 2.523], loss: 0.292639, mean_absolute_error: 0.476043, mean_q: 1.290280\n",
      "  182/5000: episode: 17, duration: 0.166s, episode steps: 10, steps per second: 60, episode reward: 10.000, mean reward: 1.000 [1.000, 1.000], mean action: 0.000 [0.000, 0.000], mean observation: 0.126 [-1.937, 3.018], loss: 0.275026, mean_absolute_error: 0.460167, mean_q: 1.314679\n",
      "  196/5000: episode: 18, duration: 0.233s, episode steps: 14, steps per second: 60, episode reward: 14.000, mean reward: 1.000 [1.000, 1.000], mean action: 0.143 [0.000, 1.000], mean observation: 0.102 [-1.964, 3.055], loss: 0.298379, mean_absolute_error: 0.485510, mean_q: 1.363253\n",
      "  207/5000: episode: 19, duration: 0.184s, episode steps: 11, steps per second: 60, episode reward: 11.000, mean reward: 1.000 [1.000, 1.000], mean action: 0.091 [0.000, 1.000], mean observation: 0.156 [-1.738, 2.853], loss: 0.288543, mean_absolute_error: 0.503811, mean_q: 1.440088\n",
      "  216/5000: episode: 20, duration: 0.148s, episode steps: 9, steps per second: 61, episode reward: 9.000, mean reward: 1.000 [1.000, 1.000], mean action: 0.000 [0.000, 0.000], mean observation: 0.153 [-1.756, 2.807], loss: 0.294028, mean_absolute_error: 0.517732, mean_q: 1.479459\n",
      "  224/5000: episode: 21, duration: 0.135s, episode steps: 8, steps per second: 59, episode reward: 8.000, mean reward: 1.000 [1.000, 1.000], mean action: 0.125 [0.000, 1.000], mean observation: 0.163 [-1.350, 2.217], loss: 0.312287, mean_absolute_error: 0.549571, mean_q: 1.525499\n",
      "  233/5000: episode: 22, duration: 0.149s, episode steps: 9, steps per second: 60, episode reward: 9.000, mean reward: 1.000 [1.000, 1.000], mean action: 0.000 [0.000, 0.000], mean observation: 0.145 [-1.773, 2.813], loss: 0.311889, mean_absolute_error: 0.565747, mean_q: 1.632296\n",
      "  241/5000: episode: 23, duration: 0.132s, episode steps: 8, steps per second: 60, episode reward: 8.000, mean reward: 1.000 [1.000, 1.000], mean action: 0.000 [0.000, 0.000], mean observation: 0.157 [-1.531, 2.553], loss: 0.340221, mean_absolute_error: 0.595674, mean_q: 1.732034\n",
      "  250/5000: episode: 24, duration: 0.150s, episode steps: 9, steps per second: 60, episode reward: 9.000, mean reward: 1.000 [1.000, 1.000], mean action: 0.000 [0.000, 0.000], mean observation: 0.158 [-1.746, 2.798], loss: 0.389855, mean_absolute_error: 0.684683, mean_q: 1.719239\n",
      "  260/5000: episode: 25, duration: 0.166s, episode steps: 10, steps per second: 60, episode reward: 10.000, mean reward: 1.000 [1.000, 1.000], mean action: 0.000 [0.000, 0.000], mean observation: 0.120 [-1.969, 3.033], loss: 0.376040, mean_absolute_error: 0.692121, mean_q: 1.745471\n",
      "  268/5000: episode: 26, duration: 0.133s, episode steps: 8, steps per second: 60, episode reward: 8.000, mean reward: 1.000 [1.000, 1.000], mean action: 0.000 [0.000, 0.000], mean observation: 0.143 [-1.551, 2.549], loss: 0.373044, mean_absolute_error: 0.716284, mean_q: 1.823346\n",
      "  278/5000: episode: 27, duration: 0.166s, episode steps: 10, steps per second: 60, episode reward: 10.000, mean reward: 1.000 [1.000, 1.000], mean action: 0.000 [0.000, 0.000], mean observation: 0.118 [-1.964, 3.004], loss: 0.391709, mean_absolute_error: 0.750991, mean_q: 1.864858\n",
      "  287/5000: episode: 28, duration: 0.150s, episode steps: 9, steps per second: 60, episode reward: 9.000, mean reward: 1.000 [1.000, 1.000], mean action: 0.000 [0.000, 0.000], mean observation: 0.138 [-1.810, 2.873], loss: 0.428790, mean_absolute_error: 0.814759, mean_q: 1.948543\n",
      "  297/5000: episode: 29, duration: 0.166s, episode steps: 10, steps per second: 60, episode reward: 10.000, mean reward: 1.000 [1.000, 1.000], mean action: 0.100 [0.000, 1.000], mean observation: 0.155 [-1.521, 2.523], loss: 0.396693, mean_absolute_error: 0.817821, mean_q: 1.962283\n",
      "  309/5000: episode: 30, duration: 0.200s, episode steps: 12, steps per second: 60, episode reward: 12.000, mean reward: 1.000 [1.000, 1.000], mean action: 0.083 [0.000, 1.000], mean observation: 0.133 [-1.912, 3.126], loss: 0.354847, mean_absolute_error: 0.807701, mean_q: 2.032775\n",
      "  319/5000: episode: 31, duration: 0.167s, episode steps: 10, steps per second: 60, episode reward: 10.000, mean reward: 1.000 [1.000, 1.000], mean action: 0.000 [0.000, 0.000], mean observation: 0.127 [-1.985, 3.032], loss: 0.387181, mean_absolute_error: 0.832620, mean_q: 2.196218\n",
      "  328/5000: episode: 32, duration: 0.149s, episode steps: 9, steps per second: 60, episode reward: 9.000, mean reward: 1.000 [1.000, 1.000], mean action: 0.000 [0.000, 0.000], mean observation: 0.141 [-1.807, 2.880], loss: 0.385828, mean_absolute_error: 0.820552, mean_q: 2.271775\n",
      "  337/5000: episode: 33, duration: 0.149s, episode steps: 9, steps per second: 60, episode reward: 9.000, mean reward: 1.000 [1.000, 1.000], mean action: 0.000 [0.000, 0.000], mean observation: 0.145 [-1.737, 2.764], loss: 0.384255, mean_absolute_error: 0.876754, mean_q: 2.283975\n"
     ]
    },
    {
     "name": "stdout",
     "output_type": "stream",
     "text": [
      "  346/5000: episode: 34, duration: 0.150s, episode steps: 9, steps per second: 60, episode reward: 9.000, mean reward: 1.000 [1.000, 1.000], mean action: 0.000 [0.000, 0.000], mean observation: 0.156 [-1.712, 2.836], loss: 0.474636, mean_absolute_error: 0.935778, mean_q: 2.384576\n",
      "  356/5000: episode: 35, duration: 0.166s, episode steps: 10, steps per second: 60, episode reward: 10.000, mean reward: 1.000 [1.000, 1.000], mean action: 0.100 [0.000, 1.000], mean observation: 0.136 [-1.592, 2.633], loss: 0.446316, mean_absolute_error: 0.978092, mean_q: 2.387925\n",
      "  368/5000: episode: 36, duration: 0.199s, episode steps: 12, steps per second: 60, episode reward: 12.000, mean reward: 1.000 [1.000, 1.000], mean action: 0.083 [0.000, 1.000], mean observation: 0.118 [-1.977, 3.098], loss: 0.546934, mean_absolute_error: 1.039304, mean_q: 2.447035\n",
      "  381/5000: episode: 37, duration: 0.217s, episode steps: 13, steps per second: 60, episode reward: 13.000, mean reward: 1.000 [1.000, 1.000], mean action: 0.077 [0.000, 1.000], mean observation: 0.117 [-2.131, 3.307], loss: 0.482839, mean_absolute_error: 1.067171, mean_q: 2.458284\n",
      "  389/5000: episode: 38, duration: 0.133s, episode steps: 8, steps per second: 60, episode reward: 8.000, mean reward: 1.000 [1.000, 1.000], mean action: 0.000 [0.000, 0.000], mean observation: 0.143 [-1.547, 2.531], loss: 0.487714, mean_absolute_error: 1.069127, mean_q: 2.571422\n",
      "  399/5000: episode: 39, duration: 0.166s, episode steps: 10, steps per second: 60, episode reward: 10.000, mean reward: 1.000 [1.000, 1.000], mean action: 0.000 [0.000, 0.000], mean observation: 0.137 [-1.958, 3.050], loss: 0.452367, mean_absolute_error: 1.025278, mean_q: 2.624775\n",
      "  408/5000: episode: 40, duration: 0.149s, episode steps: 9, steps per second: 60, episode reward: 9.000, mean reward: 1.000 [1.000, 1.000], mean action: 0.000 [0.000, 0.000], mean observation: 0.144 [-1.774, 2.819], loss: 0.453445, mean_absolute_error: 1.066548, mean_q: 2.774074\n",
      "  416/5000: episode: 41, duration: 0.133s, episode steps: 8, steps per second: 60, episode reward: 8.000, mean reward: 1.000 [1.000, 1.000], mean action: 0.000 [0.000, 0.000], mean observation: 0.169 [-1.565, 2.578], loss: 0.652891, mean_absolute_error: 1.154385, mean_q: 2.844085\n",
      "  425/5000: episode: 42, duration: 0.149s, episode steps: 9, steps per second: 60, episode reward: 9.000, mean reward: 1.000 [1.000, 1.000], mean action: 0.000 [0.000, 0.000], mean observation: 0.135 [-1.809, 2.812], loss: 0.560777, mean_absolute_error: 1.207479, mean_q: 2.812321\n",
      "  433/5000: episode: 43, duration: 0.154s, episode steps: 8, steps per second: 52, episode reward: 8.000, mean reward: 1.000 [1.000, 1.000], mean action: 0.000 [0.000, 0.000], mean observation: 0.174 [-1.530, 2.589], loss: 0.504168, mean_absolute_error: 1.177226, mean_q: 2.833660\n",
      "  444/5000: episode: 44, duration: 0.178s, episode steps: 11, steps per second: 62, episode reward: 11.000, mean reward: 1.000 [1.000, 1.000], mean action: 0.091 [0.000, 1.000], mean observation: 0.142 [-1.722, 2.800], loss: 0.622374, mean_absolute_error: 1.270659, mean_q: 2.911231\n",
      "  453/5000: episode: 45, duration: 0.150s, episode steps: 9, steps per second: 60, episode reward: 9.000, mean reward: 1.000 [1.000, 1.000], mean action: 0.000 [0.000, 0.000], mean observation: 0.167 [-1.721, 2.843], loss: 0.469738, mean_absolute_error: 1.206713, mean_q: 2.903206\n",
      "  462/5000: episode: 46, duration: 0.149s, episode steps: 9, steps per second: 60, episode reward: 9.000, mean reward: 1.000 [1.000, 1.000], mean action: 0.111 [0.000, 1.000], mean observation: 0.170 [-1.338, 2.318], loss: 0.539240, mean_absolute_error: 1.268610, mean_q: 3.037609\n",
      "  471/5000: episode: 47, duration: 0.149s, episode steps: 9, steps per second: 60, episode reward: 9.000, mean reward: 1.000 [1.000, 1.000], mean action: 0.000 [0.000, 0.000], mean observation: 0.164 [-1.721, 2.789], loss: 0.486266, mean_absolute_error: 1.258089, mean_q: 3.082420\n",
      "  480/5000: episode: 48, duration: 0.149s, episode steps: 9, steps per second: 60, episode reward: 9.000, mean reward: 1.000 [1.000, 1.000], mean action: 0.000 [0.000, 0.000], mean observation: 0.124 [-1.794, 2.794], loss: 0.516135, mean_absolute_error: 1.312362, mean_q: 3.163434\n",
      "  489/5000: episode: 49, duration: 0.149s, episode steps: 9, steps per second: 60, episode reward: 9.000, mean reward: 1.000 [1.000, 1.000], mean action: 0.000 [0.000, 0.000], mean observation: 0.143 [-1.768, 2.798], loss: 0.554608, mean_absolute_error: 1.355416, mean_q: 3.167109\n",
      "  503/5000: episode: 50, duration: 0.233s, episode steps: 14, steps per second: 60, episode reward: 14.000, mean reward: 1.000 [1.000, 1.000], mean action: 0.214 [0.000, 1.000], mean observation: 0.080 [-1.588, 2.498], loss: 0.528785, mean_absolute_error: 1.405495, mean_q: 3.226264\n",
      "  513/5000: episode: 51, duration: 0.167s, episode steps: 10, steps per second: 60, episode reward: 10.000, mean reward: 1.000 [1.000, 1.000], mean action: 0.000 [0.000, 0.000], mean observation: 0.151 [-1.922, 3.109], loss: 0.530422, mean_absolute_error: 1.461341, mean_q: 3.320700\n",
      "  526/5000: episode: 52, duration: 0.216s, episode steps: 13, steps per second: 60, episode reward: 13.000, mean reward: 1.000 [1.000, 1.000], mean action: 0.154 [0.000, 1.000], mean observation: 0.101 [-1.984, 2.950], loss: 0.530769, mean_absolute_error: 1.495234, mean_q: 3.381054\n",
      "  536/5000: episode: 53, duration: 0.224s, episode steps: 10, steps per second: 45, episode reward: 10.000, mean reward: 1.000 [1.000, 1.000], mean action: 0.000 [0.000, 0.000], mean observation: 0.132 [-1.994, 3.014], loss: 0.501245, mean_absolute_error: 1.558489, mean_q: 3.386948\n",
      "  545/5000: episode: 54, duration: 0.158s, episode steps: 9, steps per second: 57, episode reward: 9.000, mean reward: 1.000 [1.000, 1.000], mean action: 0.000 [0.000, 0.000], mean observation: 0.135 [-1.765, 2.769], loss: 0.416554, mean_absolute_error: 1.521643, mean_q: 3.432215\n",
      "  554/5000: episode: 55, duration: 0.149s, episode steps: 9, steps per second: 60, episode reward: 9.000, mean reward: 1.000 [1.000, 1.000], mean action: 0.000 [0.000, 0.000], mean observation: 0.145 [-1.742, 2.813], loss: 0.450346, mean_absolute_error: 1.540723, mean_q: 3.514009\n",
      "  564/5000: episode: 56, duration: 0.166s, episode steps: 10, steps per second: 60, episode reward: 10.000, mean reward: 1.000 [1.000, 1.000], mean action: 0.000 [0.000, 0.000], mean observation: 0.123 [-1.984, 3.051], loss: 0.428092, mean_absolute_error: 1.571825, mean_q: 3.619706\n",
      "  573/5000: episode: 57, duration: 0.149s, episode steps: 9, steps per second: 60, episode reward: 9.000, mean reward: 1.000 [1.000, 1.000], mean action: 0.111 [0.000, 1.000], mean observation: 0.133 [-1.385, 2.231], loss: 0.439964, mean_absolute_error: 1.591286, mean_q: 3.671006\n",
      "  583/5000: episode: 58, duration: 0.166s, episode steps: 10, steps per second: 60, episode reward: 10.000, mean reward: 1.000 [1.000, 1.000], mean action: 0.100 [0.000, 1.000], mean observation: 0.149 [-1.731, 2.770], loss: 0.355800, mean_absolute_error: 1.598691, mean_q: 3.707486\n",
      "  591/5000: episode: 59, duration: 0.133s, episode steps: 8, steps per second: 60, episode reward: 8.000, mean reward: 1.000 [1.000, 1.000], mean action: 0.000 [0.000, 0.000], mean observation: 0.140 [-1.605, 2.571], loss: 0.328429, mean_absolute_error: 1.630622, mean_q: 3.758009\n",
      "  601/5000: episode: 60, duration: 0.167s, episode steps: 10, steps per second: 60, episode reward: 10.000, mean reward: 1.000 [1.000, 1.000], mean action: 0.100 [0.000, 1.000], mean observation: 0.144 [-1.801, 2.749], loss: 0.381860, mean_absolute_error: 1.652432, mean_q: 3.833719\n",
      "  610/5000: episode: 61, duration: 0.148s, episode steps: 9, steps per second: 61, episode reward: 9.000, mean reward: 1.000 [1.000, 1.000], mean action: 0.111 [0.000, 1.000], mean observation: 0.122 [-1.577, 2.426], loss: 0.417548, mean_absolute_error: 1.702629, mean_q: 3.805354\n",
      "  621/5000: episode: 62, duration: 0.223s, episode steps: 11, steps per second: 49, episode reward: 11.000, mean reward: 1.000 [1.000, 1.000], mean action: 0.182 [0.000, 1.000], mean observation: 0.113 [-1.560, 2.461], loss: 0.443264, mean_absolute_error: 1.754336, mean_q: 3.780067\n",
      "  634/5000: episode: 63, duration: 0.220s, episode steps: 13, steps per second: 59, episode reward: 13.000, mean reward: 1.000 [1.000, 1.000], mean action: 0.231 [0.000, 1.000], mean observation: 0.109 [-1.523, 2.380], loss: 0.425118, mean_absolute_error: 1.738138, mean_q: 3.793922\n",
      "  644/5000: episode: 64, duration: 0.170s, episode steps: 10, steps per second: 59, episode reward: 10.000, mean reward: 1.000 [1.000, 1.000], mean action: 0.000 [0.000, 0.000], mean observation: 0.145 [-1.913, 3.061], loss: 0.465757, mean_absolute_error: 1.772701, mean_q: 3.810720\n"
     ]
    },
    {
     "name": "stdout",
     "output_type": "stream",
     "text": [
      "  654/5000: episode: 65, duration: 0.165s, episode steps: 10, steps per second: 61, episode reward: 10.000, mean reward: 1.000 [1.000, 1.000], mean action: 0.100 [0.000, 1.000], mean observation: 0.114 [-1.772, 2.677], loss: 0.379655, mean_absolute_error: 1.726541, mean_q: 3.907489\n",
      "  664/5000: episode: 66, duration: 0.167s, episode steps: 10, steps per second: 60, episode reward: 10.000, mean reward: 1.000 [1.000, 1.000], mean action: 0.100 [0.000, 1.000], mean observation: 0.132 [-1.548, 2.481], loss: 0.284939, mean_absolute_error: 1.683274, mean_q: 4.012555\n",
      "  674/5000: episode: 67, duration: 0.167s, episode steps: 10, steps per second: 60, episode reward: 10.000, mean reward: 1.000 [1.000, 1.000], mean action: 0.100 [0.000, 1.000], mean observation: 0.122 [-1.762, 2.677], loss: 0.311244, mean_absolute_error: 1.699155, mean_q: 4.064929\n",
      "  683/5000: episode: 68, duration: 0.149s, episode steps: 9, steps per second: 61, episode reward: 9.000, mean reward: 1.000 [1.000, 1.000], mean action: 0.111 [0.000, 1.000], mean observation: 0.142 [-1.351, 2.262], loss: 0.362614, mean_absolute_error: 1.755298, mean_q: 4.091692\n",
      "  693/5000: episode: 69, duration: 0.166s, episode steps: 10, steps per second: 60, episode reward: 10.000, mean reward: 1.000 [1.000, 1.000], mean action: 0.100 [0.000, 1.000], mean observation: 0.132 [-1.746, 2.720], loss: 0.392204, mean_absolute_error: 1.757699, mean_q: 4.075855\n",
      "  705/5000: episode: 70, duration: 0.200s, episode steps: 12, steps per second: 60, episode reward: 12.000, mean reward: 1.000 [1.000, 1.000], mean action: 0.167 [0.000, 1.000], mean observation: 0.131 [-1.744, 2.739], loss: 0.337250, mean_absolute_error: 1.738921, mean_q: 4.059283\n",
      "  714/5000: episode: 71, duration: 0.149s, episode steps: 9, steps per second: 60, episode reward: 9.000, mean reward: 1.000 [1.000, 1.000], mean action: 0.222 [0.000, 1.000], mean observation: 0.134 [-1.219, 1.856], loss: 0.335161, mean_absolute_error: 1.713915, mean_q: 4.221661\n",
      "  722/5000: episode: 72, duration: 0.133s, episode steps: 8, steps per second: 60, episode reward: 8.000, mean reward: 1.000 [1.000, 1.000], mean action: 0.000 [0.000, 0.000], mean observation: 0.157 [-1.537, 2.570], loss: 0.376889, mean_absolute_error: 1.769783, mean_q: 4.303705\n",
      "  732/5000: episode: 73, duration: 0.167s, episode steps: 10, steps per second: 60, episode reward: 10.000, mean reward: 1.000 [1.000, 1.000], mean action: 0.100 [0.000, 1.000], mean observation: 0.127 [-1.804, 2.770], loss: 0.309047, mean_absolute_error: 1.748374, mean_q: 4.289281\n",
      "  740/5000: episode: 74, duration: 0.133s, episode steps: 8, steps per second: 60, episode reward: 8.000, mean reward: 1.000 [1.000, 1.000], mean action: 0.000 [0.000, 0.000], mean observation: 0.163 [-1.532, 2.551], loss: 0.342402, mean_absolute_error: 1.781936, mean_q: 4.238353\n",
      "  750/5000: episode: 75, duration: 0.165s, episode steps: 10, steps per second: 60, episode reward: 10.000, mean reward: 1.000 [1.000, 1.000], mean action: 0.100 [0.000, 1.000], mean observation: 0.121 [-1.546, 2.504], loss: 0.319247, mean_absolute_error: 1.772706, mean_q: 4.339742\n",
      "  759/5000: episode: 76, duration: 0.150s, episode steps: 9, steps per second: 60, episode reward: 9.000, mean reward: 1.000 [1.000, 1.000], mean action: 0.000 [0.000, 0.000], mean observation: 0.167 [-1.718, 2.807], loss: 0.390919, mean_absolute_error: 1.856967, mean_q: 4.422600\n",
      "  769/5000: episode: 77, duration: 0.167s, episode steps: 10, steps per second: 60, episode reward: 10.000, mean reward: 1.000 [1.000, 1.000], mean action: 0.100 [0.000, 1.000], mean observation: 0.120 [-1.733, 2.636], loss: 0.298300, mean_absolute_error: 1.847218, mean_q: 4.500039\n",
      "  777/5000: episode: 78, duration: 0.132s, episode steps: 8, steps per second: 61, episode reward: 8.000, mean reward: 1.000 [1.000, 1.000], mean action: 0.125 [0.000, 1.000], mean observation: 0.149 [-1.328, 2.177], loss: 0.328638, mean_absolute_error: 1.890380, mean_q: 4.420387\n",
      "  786/5000: episode: 79, duration: 0.150s, episode steps: 9, steps per second: 60, episode reward: 9.000, mean reward: 1.000 [1.000, 1.000], mean action: 0.000 [0.000, 0.000], mean observation: 0.145 [-1.726, 2.792], loss: 0.223140, mean_absolute_error: 1.868100, mean_q: 4.559242\n",
      "  796/5000: episode: 80, duration: 0.166s, episode steps: 10, steps per second: 60, episode reward: 10.000, mean reward: 1.000 [1.000, 1.000], mean action: 0.100 [0.000, 1.000], mean observation: 0.148 [-1.718, 2.765], loss: 0.399359, mean_absolute_error: 1.903921, mean_q: 4.583813\n",
      "  805/5000: episode: 81, duration: 0.150s, episode steps: 9, steps per second: 60, episode reward: 9.000, mean reward: 1.000 [1.000, 1.000], mean action: 0.000 [0.000, 0.000], mean observation: 0.150 [-1.748, 2.806], loss: 0.353245, mean_absolute_error: 1.974733, mean_q: 4.519139\n",
      "  815/5000: episode: 82, duration: 0.166s, episode steps: 10, steps per second: 60, episode reward: 10.000, mean reward: 1.000 [1.000, 1.000], mean action: 0.100 [0.000, 1.000], mean observation: 0.128 [-1.523, 2.470], loss: 0.313408, mean_absolute_error: 1.982123, mean_q: 4.565395\n",
      "  825/5000: episode: 83, duration: 0.166s, episode steps: 10, steps per second: 60, episode reward: 10.000, mean reward: 1.000 [1.000, 1.000], mean action: 0.100 [0.000, 1.000], mean observation: 0.141 [-1.782, 2.755], loss: 0.241340, mean_absolute_error: 1.959007, mean_q: 4.703687\n",
      "  834/5000: episode: 84, duration: 0.149s, episode steps: 9, steps per second: 60, episode reward: 9.000, mean reward: 1.000 [1.000, 1.000], mean action: 0.000 [0.000, 0.000], mean observation: 0.142 [-1.716, 2.761], loss: 0.287852, mean_absolute_error: 1.903524, mean_q: 4.625386\n",
      "  844/5000: episode: 85, duration: 0.167s, episode steps: 10, steps per second: 60, episode reward: 10.000, mean reward: 1.000 [1.000, 1.000], mean action: 0.100 [0.000, 1.000], mean observation: 0.139 [-1.578, 2.557], loss: 0.285817, mean_absolute_error: 1.980426, mean_q: 4.702914\n",
      "  855/5000: episode: 86, duration: 0.183s, episode steps: 11, steps per second: 60, episode reward: 11.000, mean reward: 1.000 [1.000, 1.000], mean action: 0.091 [0.000, 1.000], mean observation: 0.119 [-1.751, 2.788], loss: 0.292610, mean_absolute_error: 2.001449, mean_q: 4.789400\n",
      "  865/5000: episode: 87, duration: 0.167s, episode steps: 10, steps per second: 60, episode reward: 10.000, mean reward: 1.000 [1.000, 1.000], mean action: 0.100 [0.000, 1.000], mean observation: 0.142 [-1.711, 2.692], loss: 0.272158, mean_absolute_error: 1.982614, mean_q: 4.721070\n",
      "  875/5000: episode: 88, duration: 0.166s, episode steps: 10, steps per second: 60, episode reward: 10.000, mean reward: 1.000 [1.000, 1.000], mean action: 0.100 [0.000, 1.000], mean observation: 0.123 [-1.792, 2.685], loss: 0.334592, mean_absolute_error: 2.067850, mean_q: 4.837049\n",
      "  885/5000: episode: 89, duration: 0.166s, episode steps: 10, steps per second: 60, episode reward: 10.000, mean reward: 1.000 [1.000, 1.000], mean action: 0.100 [0.000, 1.000], mean observation: 0.149 [-1.784, 2.754], loss: 0.260772, mean_absolute_error: 2.064660, mean_q: 4.828188\n",
      "  895/5000: episode: 90, duration: 0.183s, episode steps: 10, steps per second: 55, episode reward: 10.000, mean reward: 1.000 [1.000, 1.000], mean action: 0.100 [0.000, 1.000], mean observation: 0.132 [-1.717, 2.678], loss: 0.216931, mean_absolute_error: 2.038126, mean_q: 4.836806\n",
      "  906/5000: episode: 91, duration: 0.183s, episode steps: 11, steps per second: 60, episode reward: 11.000, mean reward: 1.000 [1.000, 1.000], mean action: 0.182 [0.000, 1.000], mean observation: 0.129 [-1.706, 2.595], loss: 0.372577, mean_absolute_error: 2.146034, mean_q: 4.927455\n",
      "  918/5000: episode: 92, duration: 0.200s, episode steps: 12, steps per second: 60, episode reward: 12.000, mean reward: 1.000 [1.000, 1.000], mean action: 0.167 [0.000, 1.000], mean observation: 0.121 [-1.781, 2.724], loss: 0.248601, mean_absolute_error: 2.146070, mean_q: 5.037569\n",
      "  928/5000: episode: 93, duration: 0.166s, episode steps: 10, steps per second: 60, episode reward: 10.000, mean reward: 1.000 [1.000, 1.000], mean action: 0.200 [0.000, 1.000], mean observation: 0.113 [-1.564, 2.350], loss: 0.217597, mean_absolute_error: 2.190145, mean_q: 5.078521\n",
      "  940/5000: episode: 94, duration: 0.200s, episode steps: 12, steps per second: 60, episode reward: 12.000, mean reward: 1.000 [1.000, 1.000], mean action: 0.250 [0.000, 1.000], mean observation: 0.115 [-1.586, 2.438], loss: 0.246874, mean_absolute_error: 2.174607, mean_q: 5.054246\n",
      "  948/5000: episode: 95, duration: 0.132s, episode steps: 8, steps per second: 60, episode reward: 8.000, mean reward: 1.000 [1.000, 1.000], mean action: 0.000 [0.000, 0.000], mean observation: 0.172 [-1.532, 2.606], loss: 0.254588, mean_absolute_error: 2.148067, mean_q: 4.944001\n"
     ]
    },
    {
     "name": "stdout",
     "output_type": "stream",
     "text": [
      "  958/5000: episode: 96, duration: 0.166s, episode steps: 10, steps per second: 60, episode reward: 10.000, mean reward: 1.000 [1.000, 1.000], mean action: 0.100 [0.000, 1.000], mean observation: 0.148 [-1.521, 2.520], loss: 0.314734, mean_absolute_error: 2.178877, mean_q: 4.947865\n",
      "  968/5000: episode: 97, duration: 0.166s, episode steps: 10, steps per second: 60, episode reward: 10.000, mean reward: 1.000 [1.000, 1.000], mean action: 0.100 [0.000, 1.000], mean observation: 0.121 [-1.772, 2.688], loss: 0.321871, mean_absolute_error: 2.211872, mean_q: 5.144414\n",
      "  976/5000: episode: 98, duration: 0.134s, episode steps: 8, steps per second: 60, episode reward: 8.000, mean reward: 1.000 [1.000, 1.000], mean action: 0.000 [0.000, 0.000], mean observation: 0.151 [-1.539, 2.568], loss: 0.217673, mean_absolute_error: 2.259959, mean_q: 5.238338\n",
      "  985/5000: episode: 99, duration: 0.149s, episode steps: 9, steps per second: 60, episode reward: 9.000, mean reward: 1.000 [1.000, 1.000], mean action: 0.111 [0.000, 1.000], mean observation: 0.147 [-1.576, 2.508], loss: 0.316160, mean_absolute_error: 2.330065, mean_q: 5.387915\n",
      "  997/5000: episode: 100, duration: 0.200s, episode steps: 12, steps per second: 60, episode reward: 12.000, mean reward: 1.000 [1.000, 1.000], mean action: 0.250 [0.000, 1.000], mean observation: 0.083 [-1.603, 2.355], loss: 0.200875, mean_absolute_error: 2.294543, mean_q: 5.212167\n",
      " 1009/5000: episode: 101, duration: 0.199s, episode steps: 12, steps per second: 60, episode reward: 12.000, mean reward: 1.000 [1.000, 1.000], mean action: 0.250 [0.000, 1.000], mean observation: 0.081 [-1.553, 2.317], loss: 0.187185, mean_absolute_error: 2.343552, mean_q: 5.276453\n",
      " 1019/5000: episode: 102, duration: 0.166s, episode steps: 10, steps per second: 60, episode reward: 10.000, mean reward: 1.000 [1.000, 1.000], mean action: 0.200 [0.000, 1.000], mean observation: 0.111 [-1.571, 2.308], loss: 0.231486, mean_absolute_error: 2.345147, mean_q: 5.270434\n",
      " 1031/5000: episode: 103, duration: 0.199s, episode steps: 12, steps per second: 60, episode reward: 12.000, mean reward: 1.000 [1.000, 1.000], mean action: 0.167 [0.000, 1.000], mean observation: 0.122 [-1.556, 2.466], loss: 0.295124, mean_absolute_error: 2.449953, mean_q: 5.377814\n",
      " 1039/5000: episode: 104, duration: 0.134s, episode steps: 8, steps per second: 60, episode reward: 8.000, mean reward: 1.000 [1.000, 1.000], mean action: 0.125 [0.000, 1.000], mean observation: 0.131 [-1.369, 2.183], loss: 0.237908, mean_absolute_error: 2.412043, mean_q: 5.266380\n",
      " 1049/5000: episode: 105, duration: 0.166s, episode steps: 10, steps per second: 60, episode reward: 10.000, mean reward: 1.000 [1.000, 1.000], mean action: 0.200 [0.000, 1.000], mean observation: 0.115 [-1.578, 2.337], loss: 0.247540, mean_absolute_error: 2.435665, mean_q: 5.387725\n",
      " 1059/5000: episode: 106, duration: 0.168s, episode steps: 10, steps per second: 60, episode reward: 10.000, mean reward: 1.000 [1.000, 1.000], mean action: 0.200 [0.000, 1.000], mean observation: 0.118 [-1.569, 2.370], loss: 0.179211, mean_absolute_error: 2.354389, mean_q: 5.230768\n",
      " 1069/5000: episode: 107, duration: 0.164s, episode steps: 10, steps per second: 61, episode reward: 10.000, mean reward: 1.000 [1.000, 1.000], mean action: 0.000 [0.000, 0.000], mean observation: 0.162 [-1.940, 3.096], loss: 0.166195, mean_absolute_error: 2.408727, mean_q: 5.414613\n",
      " 1079/5000: episode: 108, duration: 0.167s, episode steps: 10, steps per second: 60, episode reward: 10.000, mean reward: 1.000 [1.000, 1.000], mean action: 0.100 [0.000, 1.000], mean observation: 0.166 [-1.716, 2.756], loss: 0.283841, mean_absolute_error: 2.411518, mean_q: 5.396422\n",
      " 1088/5000: episode: 109, duration: 0.149s, episode steps: 9, steps per second: 60, episode reward: 9.000, mean reward: 1.000 [1.000, 1.000], mean action: 0.111 [0.000, 1.000], mean observation: 0.143 [-1.340, 2.335], loss: 0.168931, mean_absolute_error: 2.459786, mean_q: 5.508276\n",
      " 1099/5000: episode: 110, duration: 0.183s, episode steps: 11, steps per second: 60, episode reward: 11.000, mean reward: 1.000 [1.000, 1.000], mean action: 0.182 [0.000, 1.000], mean observation: 0.119 [-1.372, 2.287], loss: 0.185553, mean_absolute_error: 2.437961, mean_q: 5.376732\n",
      " 1108/5000: episode: 111, duration: 0.150s, episode steps: 9, steps per second: 60, episode reward: 9.000, mean reward: 1.000 [1.000, 1.000], mean action: 0.111 [0.000, 1.000], mean observation: 0.124 [-1.576, 2.445], loss: 0.223887, mean_absolute_error: 2.553502, mean_q: 5.582253\n",
      " 1118/5000: episode: 112, duration: 0.166s, episode steps: 10, steps per second: 60, episode reward: 10.000, mean reward: 1.000 [1.000, 1.000], mean action: 0.100 [0.000, 1.000], mean observation: 0.132 [-1.545, 2.449], loss: 0.198558, mean_absolute_error: 2.632206, mean_q: 5.650928\n",
      " 1127/5000: episode: 113, duration: 0.150s, episode steps: 9, steps per second: 60, episode reward: 9.000, mean reward: 1.000 [1.000, 1.000], mean action: 0.111 [0.000, 1.000], mean observation: 0.158 [-1.539, 2.455], loss: 0.203400, mean_absolute_error: 2.559330, mean_q: 5.497861\n",
      " 1135/5000: episode: 114, duration: 0.134s, episode steps: 8, steps per second: 60, episode reward: 8.000, mean reward: 1.000 [1.000, 1.000], mean action: 0.125 [0.000, 1.000], mean observation: 0.121 [-1.405, 2.200], loss: 0.167742, mean_absolute_error: 2.561496, mean_q: 5.545107\n",
      " 1144/5000: episode: 115, duration: 0.148s, episode steps: 9, steps per second: 61, episode reward: 9.000, mean reward: 1.000 [1.000, 1.000], mean action: 0.222 [0.000, 1.000], mean observation: 0.127 [-1.405, 2.159], loss: 0.277547, mean_absolute_error: 2.634924, mean_q: 5.618997\n",
      " 1153/5000: episode: 116, duration: 0.166s, episode steps: 9, steps per second: 54, episode reward: 9.000, mean reward: 1.000 [1.000, 1.000], mean action: 0.111 [0.000, 1.000], mean observation: 0.155 [-1.403, 2.309], loss: 0.263372, mean_absolute_error: 2.624581, mean_q: 5.598935\n",
      " 1164/5000: episode: 117, duration: 0.203s, episode steps: 11, steps per second: 54, episode reward: 11.000, mean reward: 1.000 [1.000, 1.000], mean action: 0.273 [0.000, 1.000], mean observation: 0.112 [-1.551, 2.286], loss: 0.169717, mean_absolute_error: 2.735561, mean_q: 5.778259\n",
      " 1175/5000: episode: 118, duration: 0.185s, episode steps: 11, steps per second: 60, episode reward: 11.000, mean reward: 1.000 [1.000, 1.000], mean action: 0.273 [0.000, 1.000], mean observation: 0.116 [-1.587, 2.352], loss: 0.165523, mean_absolute_error: 2.679920, mean_q: 5.592577\n",
      " 1186/5000: episode: 119, duration: 0.176s, episode steps: 11, steps per second: 62, episode reward: 11.000, mean reward: 1.000 [1.000, 1.000], mean action: 0.273 [0.000, 1.000], mean observation: 0.099 [-1.356, 2.037], loss: 0.196452, mean_absolute_error: 2.725096, mean_q: 5.681539\n",
      " 1197/5000: episode: 120, duration: 0.183s, episode steps: 11, steps per second: 60, episode reward: 11.000, mean reward: 1.000 [1.000, 1.000], mean action: 0.273 [0.000, 1.000], mean observation: 0.116 [-1.516, 2.298], loss: 0.185275, mean_absolute_error: 2.673611, mean_q: 5.512930\n",
      " 1206/5000: episode: 121, duration: 0.149s, episode steps: 9, steps per second: 60, episode reward: 9.000, mean reward: 1.000 [1.000, 1.000], mean action: 1.000 [1.000, 1.000], mean observation: -0.173 [-2.848, 1.726], loss: 0.223100, mean_absolute_error: 2.662776, mean_q: 5.425607\n",
      " 1215/5000: episode: 122, duration: 0.151s, episode steps: 9, steps per second: 60, episode reward: 9.000, mean reward: 1.000 [1.000, 1.000], mean action: 0.222 [0.000, 1.000], mean observation: 0.152 [-1.383, 2.178], loss: 0.153805, mean_absolute_error: 2.905927, mean_q: 5.953095\n",
      " 1226/5000: episode: 123, duration: 0.182s, episode steps: 11, steps per second: 61, episode reward: 11.000, mean reward: 1.000 [1.000, 1.000], mean action: 0.273 [0.000, 1.000], mean observation: 0.092 [-1.404, 2.029], loss: 0.133804, mean_absolute_error: 2.824027, mean_q: 5.845706\n",
      " 1234/5000: episode: 124, duration: 0.134s, episode steps: 8, steps per second: 60, episode reward: 8.000, mean reward: 1.000 [1.000, 1.000], mean action: 0.125 [0.000, 1.000], mean observation: 0.142 [-1.370, 2.233], loss: 0.169075, mean_absolute_error: 2.785903, mean_q: 5.702030\n"
     ]
    },
    {
     "name": "stdout",
     "output_type": "stream",
     "text": [
      " 1244/5000: episode: 125, duration: 0.166s, episode steps: 10, steps per second: 60, episode reward: 10.000, mean reward: 1.000 [1.000, 1.000], mean action: 0.200 [0.000, 1.000], mean observation: 0.126 [-1.375, 2.181], loss: 0.385389, mean_absolute_error: 2.855345, mean_q: 5.826180\n",
      " 1252/5000: episode: 126, duration: 0.134s, episode steps: 8, steps per second: 60, episode reward: 8.000, mean reward: 1.000 [1.000, 1.000], mean action: 0.875 [0.000, 1.000], mean observation: -0.153 [-2.246, 1.400], loss: 0.344636, mean_absolute_error: 2.808215, mean_q: 5.564146\n",
      " 1260/5000: episode: 127, duration: 0.133s, episode steps: 8, steps per second: 60, episode reward: 8.000, mean reward: 1.000 [1.000, 1.000], mean action: 1.000 [1.000, 1.000], mean observation: -0.140 [-2.569, 1.602], loss: 0.198096, mean_absolute_error: 2.941403, mean_q: 5.842766\n",
      " 1270/5000: episode: 128, duration: 0.166s, episode steps: 10, steps per second: 60, episode reward: 10.000, mean reward: 1.000 [1.000, 1.000], mean action: 1.000 [1.000, 1.000], mean observation: -0.125 [-3.024, 2.000], loss: 0.305596, mean_absolute_error: 2.996926, mean_q: 5.893791\n",
      " 1280/5000: episode: 129, duration: 0.166s, episode steps: 10, steps per second: 60, episode reward: 10.000, mean reward: 1.000 [1.000, 1.000], mean action: 1.000 [1.000, 1.000], mean observation: -0.137 [-3.008, 1.935], loss: 1.246863, mean_absolute_error: 3.030432, mean_q: 5.896998\n",
      " 1291/5000: episode: 130, duration: 0.183s, episode steps: 11, steps per second: 60, episode reward: 11.000, mean reward: 1.000 [1.000, 1.000], mean action: 0.909 [0.000, 1.000], mean observation: -0.129 [-2.787, 1.739], loss: 0.965027, mean_absolute_error: 3.118527, mean_q: 6.075441\n",
      " 1301/5000: episode: 131, duration: 0.167s, episode steps: 10, steps per second: 60, episode reward: 10.000, mean reward: 1.000 [1.000, 1.000], mean action: 0.300 [0.000, 1.000], mean observation: 0.104 [-1.193, 1.847], loss: 0.832047, mean_absolute_error: 3.220540, mean_q: 6.249135\n",
      " 1311/5000: episode: 132, duration: 0.187s, episode steps: 10, steps per second: 54, episode reward: 10.000, mean reward: 1.000 [1.000, 1.000], mean action: 0.200 [0.000, 1.000], mean observation: 0.156 [-1.166, 2.041], loss: 0.661212, mean_absolute_error: 3.144133, mean_q: 6.099961\n",
      " 1320/5000: episode: 133, duration: 0.144s, episode steps: 9, steps per second: 62, episode reward: 9.000, mean reward: 1.000 [1.000, 1.000], mean action: 0.222 [0.000, 1.000], mean observation: 0.139 [-1.146, 1.907], loss: 0.943081, mean_absolute_error: 3.227659, mean_q: 6.238824\n",
      " 1333/5000: episode: 134, duration: 0.216s, episode steps: 13, steps per second: 60, episode reward: 13.000, mean reward: 1.000 [1.000, 1.000], mean action: 0.385 [0.000, 1.000], mean observation: 0.101 [-1.151, 1.829], loss: 0.514151, mean_absolute_error: 3.207953, mean_q: 6.227182\n",
      " 1342/5000: episode: 135, duration: 0.166s, episode steps: 9, steps per second: 54, episode reward: 9.000, mean reward: 1.000 [1.000, 1.000], mean action: 0.889 [0.000, 1.000], mean observation: -0.138 [-2.310, 1.359], loss: 0.249097, mean_absolute_error: 3.102861, mean_q: 6.046176\n",
      " 1351/5000: episode: 136, duration: 0.149s, episode steps: 9, steps per second: 60, episode reward: 9.000, mean reward: 1.000 [1.000, 1.000], mean action: 0.222 [0.000, 1.000], mean observation: 0.116 [-1.214, 1.814], loss: 0.572854, mean_absolute_error: 3.229217, mean_q: 6.203273\n",
      " 1360/5000: episode: 137, duration: 0.150s, episode steps: 9, steps per second: 60, episode reward: 9.000, mean reward: 1.000 [1.000, 1.000], mean action: 1.000 [1.000, 1.000], mean observation: -0.157 [-2.860, 1.766], loss: 0.922216, mean_absolute_error: 3.267563, mean_q: 6.240003\n",
      " 1371/5000: episode: 138, duration: 0.183s, episode steps: 11, steps per second: 60, episode reward: 11.000, mean reward: 1.000 [1.000, 1.000], mean action: 0.364 [0.000, 1.000], mean observation: 0.114 [-1.149, 1.778], loss: 0.519683, mean_absolute_error: 3.437069, mean_q: 6.639621\n",
      " 1381/5000: episode: 139, duration: 0.168s, episode steps: 10, steps per second: 60, episode reward: 10.000, mean reward: 1.000 [1.000, 1.000], mean action: 1.000 [1.000, 1.000], mean observation: -0.150 [-3.064, 1.910], loss: 0.857230, mean_absolute_error: 3.410655, mean_q: 6.490186\n",
      " 1389/5000: episode: 140, duration: 0.132s, episode steps: 8, steps per second: 61, episode reward: 8.000, mean reward: 1.000 [1.000, 1.000], mean action: 1.000 [1.000, 1.000], mean observation: -0.149 [-2.509, 1.570], loss: 0.991372, mean_absolute_error: 3.276525, mean_q: 6.202222\n",
      " 1399/5000: episode: 141, duration: 0.166s, episode steps: 10, steps per second: 60, episode reward: 10.000, mean reward: 1.000 [1.000, 1.000], mean action: 0.400 [0.000, 1.000], mean observation: 0.104 [-0.999, 1.535], loss: 1.250636, mean_absolute_error: 3.452555, mean_q: 6.545694\n",
      " 1407/5000: episode: 142, duration: 0.133s, episode steps: 8, steps per second: 60, episode reward: 8.000, mean reward: 1.000 [1.000, 1.000], mean action: 1.000 [1.000, 1.000], mean observation: -0.161 [-2.588, 1.556], loss: 0.253736, mean_absolute_error: 3.451816, mean_q: 6.665724\n",
      " 1418/5000: episode: 143, duration: 0.183s, episode steps: 11, steps per second: 60, episode reward: 11.000, mean reward: 1.000 [1.000, 1.000], mean action: 1.000 [1.000, 1.000], mean observation: -0.105 [-3.280, 2.192], loss: 1.240785, mean_absolute_error: 3.534074, mean_q: 6.641269\n",
      " 1428/5000: episode: 144, duration: 0.166s, episode steps: 10, steps per second: 60, episode reward: 10.000, mean reward: 1.000 [1.000, 1.000], mean action: 0.900 [0.000, 1.000], mean observation: -0.131 [-2.480, 1.544], loss: 1.127129, mean_absolute_error: 3.514570, mean_q: 6.604842\n",
      " 1438/5000: episode: 145, duration: 0.167s, episode steps: 10, steps per second: 60, episode reward: 10.000, mean reward: 1.000 [1.000, 1.000], mean action: 1.000 [1.000, 1.000], mean observation: -0.122 [-2.998, 1.973], loss: 0.296031, mean_absolute_error: 3.459194, mean_q: 6.624367\n",
      " 1446/5000: episode: 146, duration: 0.132s, episode steps: 8, steps per second: 61, episode reward: 8.000, mean reward: 1.000 [1.000, 1.000], mean action: 1.000 [1.000, 1.000], mean observation: -0.171 [-2.586, 1.548], loss: 0.596303, mean_absolute_error: 3.630864, mean_q: 6.931989\n",
      " 1455/5000: episode: 147, duration: 0.151s, episode steps: 9, steps per second: 60, episode reward: 9.000, mean reward: 1.000 [1.000, 1.000], mean action: 1.000 [1.000, 1.000], mean observation: -0.165 [-2.825, 1.727], loss: 1.060788, mean_absolute_error: 3.687692, mean_q: 7.029846\n",
      " 1465/5000: episode: 148, duration: 0.165s, episode steps: 10, steps per second: 61, episode reward: 10.000, mean reward: 1.000 [1.000, 1.000], mean action: 0.900 [0.000, 1.000], mean observation: -0.120 [-2.482, 1.568], loss: 1.020751, mean_absolute_error: 3.666724, mean_q: 6.991749\n",
      " 1473/5000: episode: 149, duration: 0.133s, episode steps: 8, steps per second: 60, episode reward: 8.000, mean reward: 1.000 [1.000, 1.000], mean action: 1.000 [1.000, 1.000], mean observation: -0.139 [-2.552, 1.571], loss: 1.362747, mean_absolute_error: 3.740312, mean_q: 7.019091\n",
      " 1482/5000: episode: 150, duration: 0.150s, episode steps: 9, steps per second: 60, episode reward: 9.000, mean reward: 1.000 [1.000, 1.000], mean action: 0.889 [0.000, 1.000], mean observation: -0.153 [-2.249, 1.362], loss: 1.069456, mean_absolute_error: 3.618479, mean_q: 6.801684\n",
      " 1493/5000: episode: 151, duration: 0.183s, episode steps: 11, steps per second: 60, episode reward: 11.000, mean reward: 1.000 [1.000, 1.000], mean action: 0.909 [0.000, 1.000], mean observation: -0.124 [-2.829, 1.764], loss: 1.298851, mean_absolute_error: 3.549767, mean_q: 6.710273\n",
      " 1504/5000: episode: 152, duration: 0.183s, episode steps: 11, steps per second: 60, episode reward: 11.000, mean reward: 1.000 [1.000, 1.000], mean action: 0.909 [0.000, 1.000], mean observation: -0.153 [-2.804, 1.714], loss: 1.541634, mean_absolute_error: 3.655041, mean_q: 6.854562\n",
      " 1513/5000: episode: 153, duration: 0.149s, episode steps: 9, steps per second: 60, episode reward: 9.000, mean reward: 1.000 [1.000, 1.000], mean action: 1.000 [1.000, 1.000], mean observation: -0.131 [-2.752, 1.767], loss: 1.925705, mean_absolute_error: 3.906199, mean_q: 7.284664\n"
     ]
    },
    {
     "name": "stdout",
     "output_type": "stream",
     "text": [
      " 1522/5000: episode: 154, duration: 0.150s, episode steps: 9, steps per second: 60, episode reward: 9.000, mean reward: 1.000 [1.000, 1.000], mean action: 0.889 [0.000, 1.000], mean observation: -0.140 [-2.464, 1.540], loss: 2.088202, mean_absolute_error: 3.757335, mean_q: 6.985361\n",
      " 1532/5000: episode: 155, duration: 0.166s, episode steps: 10, steps per second: 60, episode reward: 10.000, mean reward: 1.000 [1.000, 1.000], mean action: 0.900 [0.000, 1.000], mean observation: -0.116 [-2.503, 1.577], loss: 1.791168, mean_absolute_error: 3.887366, mean_q: 7.255648\n",
      " 1541/5000: episode: 156, duration: 0.150s, episode steps: 9, steps per second: 60, episode reward: 9.000, mean reward: 1.000 [1.000, 1.000], mean action: 1.000 [1.000, 1.000], mean observation: -0.159 [-2.838, 1.743], loss: 1.233248, mean_absolute_error: 3.853878, mean_q: 7.269069\n",
      " 1552/5000: episode: 157, duration: 0.183s, episode steps: 11, steps per second: 60, episode reward: 11.000, mean reward: 1.000 [1.000, 1.000], mean action: 0.909 [0.000, 1.000], mean observation: -0.124 [-2.670, 1.736], loss: 1.823915, mean_absolute_error: 3.919248, mean_q: 7.304791\n",
      " 1561/5000: episode: 158, duration: 0.150s, episode steps: 9, steps per second: 60, episode reward: 9.000, mean reward: 1.000 [1.000, 1.000], mean action: 1.000 [1.000, 1.000], mean observation: -0.146 [-2.813, 1.769], loss: 1.653968, mean_absolute_error: 3.811172, mean_q: 7.083326\n",
      " 1571/5000: episode: 159, duration: 0.166s, episode steps: 10, steps per second: 60, episode reward: 10.000, mean reward: 1.000 [1.000, 1.000], mean action: 1.000 [1.000, 1.000], mean observation: -0.121 [-2.983, 1.982], loss: 1.900869, mean_absolute_error: 4.045041, mean_q: 7.537833\n",
      " 1580/5000: episode: 160, duration: 0.150s, episode steps: 9, steps per second: 60, episode reward: 9.000, mean reward: 1.000 [1.000, 1.000], mean action: 0.889 [0.000, 1.000], mean observation: -0.131 [-2.280, 1.425], loss: 1.504210, mean_absolute_error: 3.962638, mean_q: 7.415615\n",
      " 1594/5000: episode: 161, duration: 0.233s, episode steps: 14, steps per second: 60, episode reward: 14.000, mean reward: 1.000 [1.000, 1.000], mean action: 0.857 [0.000, 1.000], mean observation: -0.076 [-2.962, 1.942], loss: 2.374798, mean_absolute_error: 4.169830, mean_q: 7.713845\n",
      " 1604/5000: episode: 162, duration: 0.166s, episode steps: 10, steps per second: 60, episode reward: 10.000, mean reward: 1.000 [1.000, 1.000], mean action: 1.000 [1.000, 1.000], mean observation: -0.104 [-2.964, 1.973], loss: 1.229096, mean_absolute_error: 3.937389, mean_q: 7.453605\n",
      " 1614/5000: episode: 163, duration: 0.166s, episode steps: 10, steps per second: 60, episode reward: 10.000, mean reward: 1.000 [1.000, 1.000], mean action: 0.900 [0.000, 1.000], mean observation: -0.134 [-2.551, 1.529], loss: 1.278531, mean_absolute_error: 4.092793, mean_q: 7.742074\n",
      " 1625/5000: episode: 164, duration: 0.183s, episode steps: 11, steps per second: 60, episode reward: 11.000, mean reward: 1.000 [1.000, 1.000], mean action: 0.909 [0.000, 1.000], mean observation: -0.113 [-2.759, 1.782], loss: 1.604783, mean_absolute_error: 4.084379, mean_q: 7.683615\n",
      " 1635/5000: episode: 165, duration: 0.166s, episode steps: 10, steps per second: 60, episode reward: 10.000, mean reward: 1.000 [1.000, 1.000], mean action: 0.900 [0.000, 1.000], mean observation: -0.137 [-2.512, 1.541], loss: 2.052113, mean_absolute_error: 4.153048, mean_q: 7.724862\n",
      " 1647/5000: episode: 166, duration: 0.199s, episode steps: 12, steps per second: 60, episode reward: 12.000, mean reward: 1.000 [1.000, 1.000], mean action: 0.833 [0.000, 1.000], mean observation: -0.118 [-2.479, 1.516], loss: 3.431742, mean_absolute_error: 4.428400, mean_q: 7.979183\n",
      " 1657/5000: episode: 167, duration: 0.166s, episode steps: 10, steps per second: 60, episode reward: 10.000, mean reward: 1.000 [1.000, 1.000], mean action: 1.000 [1.000, 1.000], mean observation: -0.150 [-3.093, 1.967], loss: 1.751800, mean_absolute_error: 4.150941, mean_q: 7.673601\n",
      " 1666/5000: episode: 168, duration: 0.149s, episode steps: 9, steps per second: 61, episode reward: 9.000, mean reward: 1.000 [1.000, 1.000], mean action: 0.889 [0.000, 1.000], mean observation: -0.121 [-2.232, 1.414], loss: 1.509331, mean_absolute_error: 4.141225, mean_q: 7.684842\n",
      " 1675/5000: episode: 169, duration: 0.150s, episode steps: 9, steps per second: 60, episode reward: 9.000, mean reward: 1.000 [1.000, 1.000], mean action: 1.000 [1.000, 1.000], mean observation: -0.170 [-2.883, 1.756], loss: 2.016822, mean_absolute_error: 4.194579, mean_q: 7.716822\n",
      " 1684/5000: episode: 170, duration: 0.152s, episode steps: 9, steps per second: 59, episode reward: 9.000, mean reward: 1.000 [1.000, 1.000], mean action: 0.889 [0.000, 1.000], mean observation: -0.127 [-2.449, 1.585], loss: 1.942114, mean_absolute_error: 4.091230, mean_q: 7.490656\n",
      " 1693/5000: episode: 171, duration: 0.148s, episode steps: 9, steps per second: 61, episode reward: 9.000, mean reward: 1.000 [1.000, 1.000], mean action: 1.000 [1.000, 1.000], mean observation: -0.146 [-2.784, 1.723], loss: 0.895105, mean_absolute_error: 4.118113, mean_q: 7.687835\n",
      " 1703/5000: episode: 172, duration: 0.166s, episode steps: 10, steps per second: 60, episode reward: 10.000, mean reward: 1.000 [1.000, 1.000], mean action: 1.000 [1.000, 1.000], mean observation: -0.126 [-3.072, 1.993], loss: 1.989222, mean_absolute_error: 4.197619, mean_q: 7.743079\n",
      " 1711/5000: episode: 173, duration: 0.133s, episode steps: 8, steps per second: 60, episode reward: 8.000, mean reward: 1.000 [1.000, 1.000], mean action: 1.000 [1.000, 1.000], mean observation: -0.148 [-2.609, 1.614], loss: 2.232324, mean_absolute_error: 4.382642, mean_q: 8.029615\n",
      " 1721/5000: episode: 174, duration: 0.166s, episode steps: 10, steps per second: 60, episode reward: 10.000, mean reward: 1.000 [1.000, 1.000], mean action: 1.000 [1.000, 1.000], mean observation: -0.151 [-3.015, 1.902], loss: 2.095512, mean_absolute_error: 4.305846, mean_q: 7.901011\n",
      " 1734/5000: episode: 175, duration: 0.216s, episode steps: 13, steps per second: 60, episode reward: 13.000, mean reward: 1.000 [1.000, 1.000], mean action: 0.846 [0.000, 1.000], mean observation: -0.101 [-2.916, 1.975], loss: 2.849298, mean_absolute_error: 4.421000, mean_q: 7.902834\n",
      " 1743/5000: episode: 176, duration: 0.149s, episode steps: 9, steps per second: 60, episode reward: 9.000, mean reward: 1.000 [1.000, 1.000], mean action: 1.000 [1.000, 1.000], mean observation: -0.180 [-2.904, 1.742], loss: 1.930567, mean_absolute_error: 4.340437, mean_q: 7.880256\n",
      " 1752/5000: episode: 177, duration: 0.150s, episode steps: 9, steps per second: 60, episode reward: 9.000, mean reward: 1.000 [1.000, 1.000], mean action: 1.000 [1.000, 1.000], mean observation: -0.137 [-2.842, 1.779], loss: 2.571899, mean_absolute_error: 4.479686, mean_q: 8.088209\n",
      " 1765/5000: episode: 178, duration: 0.216s, episode steps: 13, steps per second: 60, episode reward: 13.000, mean reward: 1.000 [1.000, 1.000], mean action: 0.923 [0.000, 1.000], mean observation: -0.111 [-3.299, 2.133], loss: 1.761118, mean_absolute_error: 4.338168, mean_q: 7.977913\n",
      " 1775/5000: episode: 179, duration: 0.166s, episode steps: 10, steps per second: 60, episode reward: 10.000, mean reward: 1.000 [1.000, 1.000], mean action: 1.000 [1.000, 1.000], mean observation: -0.131 [-3.023, 1.950], loss: 1.968217, mean_absolute_error: 4.418644, mean_q: 8.125257\n",
      " 1783/5000: episode: 180, duration: 0.132s, episode steps: 8, steps per second: 61, episode reward: 8.000, mean reward: 1.000 [1.000, 1.000], mean action: 1.000 [1.000, 1.000], mean observation: -0.152 [-2.613, 1.584], loss: 2.013210, mean_absolute_error: 4.457205, mean_q: 8.212292\n",
      " 1792/5000: episode: 181, duration: 0.150s, episode steps: 9, steps per second: 60, episode reward: 9.000, mean reward: 1.000 [1.000, 1.000], mean action: 1.000 [1.000, 1.000], mean observation: -0.135 [-2.797, 1.788], loss: 1.678173, mean_absolute_error: 4.379110, mean_q: 8.136028\n",
      " 1803/5000: episode: 182, duration: 0.183s, episode steps: 11, steps per second: 60, episode reward: 11.000, mean reward: 1.000 [1.000, 1.000], mean action: 0.909 [0.000, 1.000], mean observation: -0.148 [-2.864, 1.728], loss: 1.582990, mean_absolute_error: 4.425737, mean_q: 8.233487\n",
      " 1811/5000: episode: 183, duration: 0.132s, episode steps: 8, steps per second: 61, episode reward: 8.000, mean reward: 1.000 [1.000, 1.000], mean action: 0.875 [0.000, 1.000], mean observation: -0.135 [-2.192, 1.354], loss: 3.347793, mean_absolute_error: 4.676794, mean_q: 8.365473\n"
     ]
    },
    {
     "name": "stdout",
     "output_type": "stream",
     "text": [
      " 1821/5000: episode: 184, duration: 0.166s, episode steps: 10, steps per second: 60, episode reward: 10.000, mean reward: 1.000 [1.000, 1.000], mean action: 0.900 [0.000, 1.000], mean observation: -0.163 [-2.643, 1.521], loss: 2.950213, mean_absolute_error: 4.600986, mean_q: 8.301473\n",
      " 1831/5000: episode: 185, duration: 0.167s, episode steps: 10, steps per second: 60, episode reward: 10.000, mean reward: 1.000 [1.000, 1.000], mean action: 1.000 [1.000, 1.000], mean observation: -0.129 [-3.062, 1.971], loss: 2.004537, mean_absolute_error: 4.714692, mean_q: 8.497425\n",
      " 1843/5000: episode: 186, duration: 0.200s, episode steps: 12, steps per second: 60, episode reward: 12.000, mean reward: 1.000 [1.000, 1.000], mean action: 0.917 [0.000, 1.000], mean observation: -0.114 [-3.005, 1.950], loss: 1.765394, mean_absolute_error: 4.553888, mean_q: 8.310732\n",
      " 1851/5000: episode: 187, duration: 0.133s, episode steps: 8, steps per second: 60, episode reward: 8.000, mean reward: 1.000 [1.000, 1.000], mean action: 1.000 [1.000, 1.000], mean observation: -0.155 [-2.570, 1.575], loss: 1.089862, mean_absolute_error: 4.513187, mean_q: 8.300817\n",
      " 1861/5000: episode: 188, duration: 0.203s, episode steps: 10, steps per second: 49, episode reward: 10.000, mean reward: 1.000 [1.000, 1.000], mean action: 1.000 [1.000, 1.000], mean observation: -0.153 [-3.092, 1.915], loss: 1.200266, mean_absolute_error: 4.509031, mean_q: 8.375686\n",
      " 1871/5000: episode: 189, duration: 0.162s, episode steps: 10, steps per second: 62, episode reward: 10.000, mean reward: 1.000 [1.000, 1.000], mean action: 1.000 [1.000, 1.000], mean observation: -0.114 [-2.968, 1.933], loss: 1.939234, mean_absolute_error: 4.568503, mean_q: 8.407592\n",
      " 1881/5000: episode: 190, duration: 0.202s, episode steps: 10, steps per second: 49, episode reward: 10.000, mean reward: 1.000 [1.000, 1.000], mean action: 0.900 [0.000, 1.000], mean observation: -0.154 [-2.556, 1.590], loss: 1.959881, mean_absolute_error: 4.549047, mean_q: 8.298123\n",
      " 1891/5000: episode: 191, duration: 0.182s, episode steps: 10, steps per second: 55, episode reward: 10.000, mean reward: 1.000 [1.000, 1.000], mean action: 0.900 [0.000, 1.000], mean observation: -0.128 [-2.465, 1.566], loss: 1.749168, mean_absolute_error: 4.633983, mean_q: 8.394224\n",
      " 1900/5000: episode: 192, duration: 0.157s, episode steps: 9, steps per second: 57, episode reward: 9.000, mean reward: 1.000 [1.000, 1.000], mean action: 0.889 [0.000, 1.000], mean observation: -0.140 [-2.494, 1.576], loss: 1.375282, mean_absolute_error: 4.452807, mean_q: 8.166843\n",
      " 1909/5000: episode: 193, duration: 0.172s, episode steps: 9, steps per second: 52, episode reward: 9.000, mean reward: 1.000 [1.000, 1.000], mean action: 0.889 [0.000, 1.000], mean observation: -0.136 [-2.299, 1.358], loss: 1.822956, mean_absolute_error: 4.662169, mean_q: 8.468985\n",
      " 1920/5000: episode: 194, duration: 0.178s, episode steps: 11, steps per second: 62, episode reward: 11.000, mean reward: 1.000 [1.000, 1.000], mean action: 0.818 [0.000, 1.000], mean observation: -0.146 [-2.293, 1.350], loss: 1.549113, mean_absolute_error: 4.614469, mean_q: 8.510263\n",
      " 1932/5000: episode: 195, duration: 0.200s, episode steps: 12, steps per second: 60, episode reward: 12.000, mean reward: 1.000 [1.000, 1.000], mean action: 0.750 [0.000, 1.000], mean observation: -0.108 [-2.109, 1.231], loss: 1.918184, mean_absolute_error: 4.797637, mean_q: 8.747400\n",
      " 1943/5000: episode: 196, duration: 0.182s, episode steps: 11, steps per second: 60, episode reward: 11.000, mean reward: 1.000 [1.000, 1.000], mean action: 0.727 [0.000, 1.000], mean observation: -0.098 [-2.067, 1.413], loss: 1.817310, mean_absolute_error: 4.746325, mean_q: 8.625623\n",
      " 1953/5000: episode: 197, duration: 0.167s, episode steps: 10, steps per second: 60, episode reward: 10.000, mean reward: 1.000 [1.000, 1.000], mean action: 0.800 [0.000, 1.000], mean observation: -0.130 [-2.130, 1.346], loss: 2.377419, mean_absolute_error: 4.733733, mean_q: 8.403967\n",
      " 1966/5000: episode: 198, duration: 0.216s, episode steps: 13, steps per second: 60, episode reward: 13.000, mean reward: 1.000 [1.000, 1.000], mean action: 0.692 [0.000, 1.000], mean observation: -0.097 [-1.684, 0.957], loss: 1.603376, mean_absolute_error: 4.636572, mean_q: 8.399360\n",
      " 1981/5000: episode: 199, duration: 0.249s, episode steps: 15, steps per second: 60, episode reward: 15.000, mean reward: 1.000 [1.000, 1.000], mean action: 0.667 [0.000, 1.000], mean observation: -0.080 [-1.740, 1.013], loss: 1.648542, mean_absolute_error: 4.574034, mean_q: 8.274364\n",
      " 1994/5000: episode: 200, duration: 0.236s, episode steps: 13, steps per second: 55, episode reward: 13.000, mean reward: 1.000 [1.000, 1.000], mean action: 0.692 [0.000, 1.000], mean observation: -0.106 [-1.786, 0.958], loss: 2.075644, mean_absolute_error: 4.790261, mean_q: 8.515561\n",
      " 2009/5000: episode: 201, duration: 0.247s, episode steps: 15, steps per second: 61, episode reward: 15.000, mean reward: 1.000 [1.000, 1.000], mean action: 0.600 [0.000, 1.000], mean observation: -0.085 [-1.426, 0.820], loss: 2.131244, mean_absolute_error: 4.711710, mean_q: 8.359691\n",
      " 2022/5000: episode: 202, duration: 0.216s, episode steps: 13, steps per second: 60, episode reward: 13.000, mean reward: 1.000 [1.000, 1.000], mean action: 0.615 [0.000, 1.000], mean observation: -0.109 [-1.425, 0.743], loss: 1.498389, mean_absolute_error: 4.678676, mean_q: 8.484481\n",
      " 2035/5000: episode: 203, duration: 0.232s, episode steps: 13, steps per second: 56, episode reward: 13.000, mean reward: 1.000 [1.000, 1.000], mean action: 0.615 [0.000, 1.000], mean observation: -0.094 [-1.369, 0.783], loss: 1.144956, mean_absolute_error: 4.640041, mean_q: 8.592958\n",
      " 2048/5000: episode: 204, duration: 0.216s, episode steps: 13, steps per second: 60, episode reward: 13.000, mean reward: 1.000 [1.000, 1.000], mean action: 0.615 [0.000, 1.000], mean observation: -0.077 [-1.418, 0.838], loss: 1.414936, mean_absolute_error: 4.782801, mean_q: 8.708663\n",
      " 2071/5000: episode: 205, duration: 0.383s, episode steps: 23, steps per second: 60, episode reward: 23.000, mean reward: 1.000 [1.000, 1.000], mean action: 0.565 [0.000, 1.000], mean observation: -0.095 [-1.606, 0.758], loss: 1.189018, mean_absolute_error: 4.633473, mean_q: 8.540993\n",
      " 2086/5000: episode: 206, duration: 0.249s, episode steps: 15, steps per second: 60, episode reward: 15.000, mean reward: 1.000 [1.000, 1.000], mean action: 0.533 [0.000, 1.000], mean observation: 0.121 [-0.733, 1.174], loss: 2.339599, mean_absolute_error: 4.800901, mean_q: 8.598814\n",
      " 2123/5000: episode: 207, duration: 0.616s, episode steps: 37, steps per second: 60, episode reward: 37.000, mean reward: 1.000 [1.000, 1.000], mean action: 0.514 [0.000, 1.000], mean observation: 0.090 [-0.642, 0.981], loss: 1.171427, mean_absolute_error: 4.695928, mean_q: 8.626615\n",
      " 2136/5000: episode: 208, duration: 0.216s, episode steps: 13, steps per second: 60, episode reward: 13.000, mean reward: 1.000 [1.000, 1.000], mean action: 0.615 [0.000, 1.000], mean observation: -0.097 [-1.257, 0.596], loss: 1.526547, mean_absolute_error: 4.812259, mean_q: 8.857396\n",
      " 2150/5000: episode: 209, duration: 0.262s, episode steps: 14, steps per second: 54, episode reward: 14.000, mean reward: 1.000 [1.000, 1.000], mean action: 0.571 [0.000, 1.000], mean observation: -0.087 [-1.253, 0.645], loss: 1.152576, mean_absolute_error: 4.769702, mean_q: 8.881365\n",
      " 2166/5000: episode: 210, duration: 0.324s, episode steps: 16, steps per second: 49, episode reward: 16.000, mean reward: 1.000 [1.000, 1.000], mean action: 0.562 [0.000, 1.000], mean observation: -0.093 [-1.174, 0.733], loss: 0.867579, mean_absolute_error: 4.728025, mean_q: 8.831261\n",
      " 2178/5000: episode: 211, duration: 0.212s, episode steps: 12, steps per second: 57, episode reward: 12.000, mean reward: 1.000 [1.000, 1.000], mean action: 0.667 [0.000, 1.000], mean observation: -0.117 [-1.505, 0.757], loss: 1.071391, mean_absolute_error: 4.756964, mean_q: 8.900195\n",
      " 2192/5000: episode: 212, duration: 0.261s, episode steps: 14, steps per second: 54, episode reward: 14.000, mean reward: 1.000 [1.000, 1.000], mean action: 0.643 [0.000, 1.000], mean observation: -0.106 [-1.407, 0.749], loss: 1.174738, mean_absolute_error: 4.801213, mean_q: 9.001510\n"
     ]
    },
    {
     "name": "stdout",
     "output_type": "stream",
     "text": [
      " 2207/5000: episode: 213, duration: 0.266s, episode steps: 15, steps per second: 56, episode reward: 15.000, mean reward: 1.000 [1.000, 1.000], mean action: 0.533 [0.000, 1.000], mean observation: -0.073 [-1.145, 0.630], loss: 1.752091, mean_absolute_error: 4.919221, mean_q: 9.030554\n",
      " 2234/5000: episode: 214, duration: 0.488s, episode steps: 27, steps per second: 55, episode reward: 27.000, mean reward: 1.000 [1.000, 1.000], mean action: 0.556 [0.000, 1.000], mean observation: -0.068 [-1.497, 0.626], loss: 1.454872, mean_absolute_error: 4.828894, mean_q: 8.859282\n",
      " 2249/5000: episode: 215, duration: 0.247s, episode steps: 15, steps per second: 61, episode reward: 15.000, mean reward: 1.000 [1.000, 1.000], mean action: 0.533 [0.000, 1.000], mean observation: -0.089 [-1.227, 0.813], loss: 1.645562, mean_absolute_error: 4.891934, mean_q: 8.995225\n",
      " 2279/5000: episode: 216, duration: 0.535s, episode steps: 30, steps per second: 56, episode reward: 30.000, mean reward: 1.000 [1.000, 1.000], mean action: 0.500 [0.000, 1.000], mean observation: 0.068 [-0.828, 0.936], loss: 1.580484, mean_absolute_error: 4.892349, mean_q: 8.966903\n",
      " 2304/5000: episode: 217, duration: 0.447s, episode steps: 25, steps per second: 56, episode reward: 25.000, mean reward: 1.000 [1.000, 1.000], mean action: 0.520 [0.000, 1.000], mean observation: -0.079 [-1.089, 0.392], loss: 1.197424, mean_absolute_error: 4.903339, mean_q: 9.060629\n",
      " 2325/5000: episode: 218, duration: 0.398s, episode steps: 21, steps per second: 53, episode reward: 21.000, mean reward: 1.000 [1.000, 1.000], mean action: 0.524 [0.000, 1.000], mean observation: -0.108 [-1.114, 0.542], loss: 1.488065, mean_absolute_error: 4.979787, mean_q: 9.196373\n",
      " 2351/5000: episode: 219, duration: 0.466s, episode steps: 26, steps per second: 56, episode reward: 26.000, mean reward: 1.000 [1.000, 1.000], mean action: 0.500 [0.000, 1.000], mean observation: -0.082 [-1.018, 0.479], loss: 1.031598, mean_absolute_error: 4.947981, mean_q: 9.241137\n",
      " 2378/5000: episode: 220, duration: 0.496s, episode steps: 27, steps per second: 54, episode reward: 27.000, mean reward: 1.000 [1.000, 1.000], mean action: 0.481 [0.000, 1.000], mean observation: -0.101 [-0.782, 0.405], loss: 1.425328, mean_absolute_error: 5.076623, mean_q: 9.399657\n",
      " 2420/5000: episode: 221, duration: 0.716s, episode steps: 42, steps per second: 59, episode reward: 42.000, mean reward: 1.000 [1.000, 1.000], mean action: 0.500 [0.000, 1.000], mean observation: -0.044 [-0.998, 0.544], loss: 1.470433, mean_absolute_error: 5.129087, mean_q: 9.517695\n",
      " 2453/5000: episode: 222, duration: 0.597s, episode steps: 33, steps per second: 55, episode reward: 33.000, mean reward: 1.000 [1.000, 1.000], mean action: 0.515 [0.000, 1.000], mean observation: -0.114 [-1.312, 0.572], loss: 1.474558, mean_absolute_error: 5.183255, mean_q: 9.626362\n",
      " 2470/5000: episode: 223, duration: 0.298s, episode steps: 17, steps per second: 57, episode reward: 17.000, mean reward: 1.000 [1.000, 1.000], mean action: 0.471 [0.000, 1.000], mean observation: 0.110 [-0.553, 1.110], loss: 1.408454, mean_absolute_error: 5.130512, mean_q: 9.521249\n",
      " 2507/5000: episode: 224, duration: 0.632s, episode steps: 37, steps per second: 59, episode reward: 37.000, mean reward: 1.000 [1.000, 1.000], mean action: 0.541 [0.000, 1.000], mean observation: 0.080 [-0.412, 0.888], loss: 1.418142, mean_absolute_error: 5.186048, mean_q: 9.607237\n",
      " 2532/5000: episode: 225, duration: 0.424s, episode steps: 25, steps per second: 59, episode reward: 25.000, mean reward: 1.000 [1.000, 1.000], mean action: 0.520 [0.000, 1.000], mean observation: -0.077 [-1.051, 0.459], loss: 1.621201, mean_absolute_error: 5.137155, mean_q: 9.530153\n",
      " 2564/5000: episode: 226, duration: 0.588s, episode steps: 32, steps per second: 54, episode reward: 32.000, mean reward: 1.000 [1.000, 1.000], mean action: 0.500 [0.000, 1.000], mean observation: -0.053 [-0.930, 0.583], loss: 1.535178, mean_absolute_error: 5.256670, mean_q: 9.797493\n",
      " 2579/5000: episode: 227, duration: 0.302s, episode steps: 15, steps per second: 50, episode reward: 15.000, mean reward: 1.000 [1.000, 1.000], mean action: 0.467 [0.000, 1.000], mean observation: -0.105 [-0.956, 0.616], loss: 1.505121, mean_absolute_error: 5.359084, mean_q: 10.002429\n",
      " 2605/5000: episode: 228, duration: 0.465s, episode steps: 26, steps per second: 56, episode reward: 26.000, mean reward: 1.000 [1.000, 1.000], mean action: 0.500 [0.000, 1.000], mean observation: -0.102 [-0.881, 0.379], loss: 1.601503, mean_absolute_error: 5.328718, mean_q: 9.919732\n",
      " 2626/5000: episode: 229, duration: 0.397s, episode steps: 21, steps per second: 53, episode reward: 21.000, mean reward: 1.000 [1.000, 1.000], mean action: 0.476 [0.000, 1.000], mean observation: -0.083 [-0.851, 0.415], loss: 1.535580, mean_absolute_error: 5.335670, mean_q: 9.947889\n",
      " 2646/5000: episode: 230, duration: 0.348s, episode steps: 20, steps per second: 57, episode reward: 20.000, mean reward: 1.000 [1.000, 1.000], mean action: 0.500 [0.000, 1.000], mean observation: -0.120 [-0.931, 0.356], loss: 1.566905, mean_absolute_error: 5.452022, mean_q: 10.182856\n",
      " 2667/5000: episode: 231, duration: 0.356s, episode steps: 21, steps per second: 59, episode reward: 21.000, mean reward: 1.000 [1.000, 1.000], mean action: 0.476 [0.000, 1.000], mean observation: -0.114 [-0.918, 0.342], loss: 1.185214, mean_absolute_error: 5.342216, mean_q: 10.031989\n",
      " 2719/5000: episode: 232, duration: 1.032s, episode steps: 52, steps per second: 50, episode reward: 52.000, mean reward: 1.000 [1.000, 1.000], mean action: 0.481 [0.000, 1.000], mean observation: -0.071 [-0.778, 0.419], loss: 1.520867, mean_absolute_error: 5.427996, mean_q: 10.137035\n",
      " 2755/5000: episode: 233, duration: 0.638s, episode steps: 36, steps per second: 56, episode reward: 36.000, mean reward: 1.000 [1.000, 1.000], mean action: 0.500 [0.000, 1.000], mean observation: -0.120 [-0.961, 0.210], loss: 1.489176, mean_absolute_error: 5.511873, mean_q: 10.268020\n",
      " 2815/5000: episode: 234, duration: 1.112s, episode steps: 60, steps per second: 54, episode reward: 60.000, mean reward: 1.000 [1.000, 1.000], mean action: 0.500 [0.000, 1.000], mean observation: -0.039 [-0.952, 0.573], loss: 1.751595, mean_absolute_error: 5.600729, mean_q: 10.444587\n",
      " 2842/5000: episode: 235, duration: 0.496s, episode steps: 27, steps per second: 54, episode reward: 27.000, mean reward: 1.000 [1.000, 1.000], mean action: 0.481 [0.000, 1.000], mean observation: -0.099 [-0.685, 0.411], loss: 1.423541, mean_absolute_error: 5.616090, mean_q: 10.511855\n",
      " 2910/5000: episode: 236, duration: 1.273s, episode steps: 68, steps per second: 53, episode reward: 68.000, mean reward: 1.000 [1.000, 1.000], mean action: 0.485 [0.000, 1.000], mean observation: -0.069 [-0.752, 0.347], loss: 1.732741, mean_absolute_error: 5.790436, mean_q: 10.808875\n",
      " 2951/5000: episode: 237, duration: 0.745s, episode steps: 41, steps per second: 55, episode reward: 41.000, mean reward: 1.000 [1.000, 1.000], mean action: 0.512 [0.000, 1.000], mean observation: 0.104 [-0.306, 0.727], loss: 1.824203, mean_absolute_error: 5.876052, mean_q: 10.945216\n",
      " 3012/5000: episode: 238, duration: 1.148s, episode steps: 61, steps per second: 53, episode reward: 61.000, mean reward: 1.000 [1.000, 1.000], mean action: 0.525 [0.000, 1.000], mean observation: 0.114 [-0.463, 1.038], loss: 1.787066, mean_absolute_error: 5.946685, mean_q: 11.089372\n",
      " 3084/5000: episode: 239, duration: 1.280s, episode steps: 72, steps per second: 56, episode reward: 72.000, mean reward: 1.000 [1.000, 1.000], mean action: 0.486 [0.000, 1.000], mean observation: -0.081 [-0.788, 0.797], loss: 1.787498, mean_absolute_error: 6.076268, mean_q: 11.393062\n",
      " 3125/5000: episode: 240, duration: 0.697s, episode steps: 41, steps per second: 59, episode reward: 41.000, mean reward: 1.000 [1.000, 1.000], mean action: 0.463 [0.000, 1.000], mean observation: -0.120 [-0.733, 0.397], loss: 2.109477, mean_absolute_error: 6.128595, mean_q: 11.427698\n",
      " 3178/5000: episode: 241, duration: 0.914s, episode steps: 53, steps per second: 58, episode reward: 53.000, mean reward: 1.000 [1.000, 1.000], mean action: 0.491 [0.000, 1.000], mean observation: -0.089 [-0.998, 0.297], loss: 2.182817, mean_absolute_error: 6.185517, mean_q: 11.489189\n"
     ]
    },
    {
     "name": "stdout",
     "output_type": "stream",
     "text": [
      " 3204/5000: episode: 242, duration: 0.483s, episode steps: 26, steps per second: 54, episode reward: 26.000, mean reward: 1.000 [1.000, 1.000], mean action: 0.462 [0.000, 1.000], mean observation: -0.122 [-0.680, 0.346], loss: 1.894135, mean_absolute_error: 6.303790, mean_q: 11.849040\n",
      " 3256/5000: episode: 243, duration: 0.879s, episode steps: 52, steps per second: 59, episode reward: 52.000, mean reward: 1.000 [1.000, 1.000], mean action: 0.481 [0.000, 1.000], mean observation: -0.088 [-0.727, 0.432], loss: 2.221745, mean_absolute_error: 6.299969, mean_q: 11.764969\n",
      " 3308/5000: episode: 244, duration: 0.951s, episode steps: 52, steps per second: 55, episode reward: 52.000, mean reward: 1.000 [1.000, 1.000], mean action: 0.481 [0.000, 1.000], mean observation: -0.098 [-0.720, 0.554], loss: 1.818087, mean_absolute_error: 6.306190, mean_q: 11.827723\n",
      " 3374/5000: episode: 245, duration: 1.181s, episode steps: 66, steps per second: 56, episode reward: 66.000, mean reward: 1.000 [1.000, 1.000], mean action: 0.485 [0.000, 1.000], mean observation: -0.109 [-0.974, 0.432], loss: 1.718860, mean_absolute_error: 6.537372, mean_q: 12.341848\n",
      " 3446/5000: episode: 246, duration: 1.274s, episode steps: 72, steps per second: 57, episode reward: 72.000, mean reward: 1.000 [1.000, 1.000], mean action: 0.486 [0.000, 1.000], mean observation: -0.071 [-0.783, 0.351], loss: 2.089668, mean_absolute_error: 6.617523, mean_q: 12.427394\n",
      " 3480/5000: episode: 247, duration: 0.586s, episode steps: 34, steps per second: 58, episode reward: 34.000, mean reward: 1.000 [1.000, 1.000], mean action: 0.471 [0.000, 1.000], mean observation: -0.117 [-0.752, 0.420], loss: 2.467216, mean_absolute_error: 6.713712, mean_q: 12.584655\n",
      " 3550/5000: episode: 248, duration: 1.278s, episode steps: 70, steps per second: 55, episode reward: 70.000, mean reward: 1.000 [1.000, 1.000], mean action: 0.486 [0.000, 1.000], mean observation: -0.072 [-0.809, 0.349], loss: 2.248182, mean_absolute_error: 6.772759, mean_q: 12.737218\n",
      " 3581/5000: episode: 249, duration: 0.557s, episode steps: 31, steps per second: 56, episode reward: 31.000, mean reward: 1.000 [1.000, 1.000], mean action: 0.484 [0.000, 1.000], mean observation: -0.128 [-0.909, 0.271], loss: 1.678779, mean_absolute_error: 6.797974, mean_q: 12.902102\n",
      " 3618/5000: episode: 250, duration: 0.696s, episode steps: 37, steps per second: 53, episode reward: 37.000, mean reward: 1.000 [1.000, 1.000], mean action: 0.459 [0.000, 1.000], mean observation: -0.121 [-0.725, 0.416], loss: 2.188290, mean_absolute_error: 7.021382, mean_q: 13.289399\n",
      " 3695/5000: episode: 251, duration: 1.331s, episode steps: 77, steps per second: 58, episode reward: 77.000, mean reward: 1.000 [1.000, 1.000], mean action: 0.481 [0.000, 1.000], mean observation: -0.074 [-0.707, 0.401], loss: 1.863075, mean_absolute_error: 6.879098, mean_q: 13.027275\n",
      " 3744/5000: episode: 252, duration: 0.850s, episode steps: 49, steps per second: 58, episode reward: 49.000, mean reward: 1.000 [1.000, 1.000], mean action: 0.469 [0.000, 1.000], mean observation: -0.113 [-0.768, 0.388], loss: 2.550058, mean_absolute_error: 7.110825, mean_q: 13.368564\n",
      " 3921/5000: episode: 253, duration: 3.019s, episode steps: 177, steps per second: 59, episode reward: 177.000, mean reward: 1.000 [1.000, 1.000], mean action: 0.492 [0.000, 1.000], mean observation: -0.014 [-0.707, 0.380], loss: 2.025482, mean_absolute_error: 7.313597, mean_q: 13.909859\n",
      " 4017/5000: episode: 254, duration: 1.662s, episode steps: 96, steps per second: 58, episode reward: 96.000, mean reward: 1.000 [1.000, 1.000], mean action: 0.521 [0.000, 1.000], mean observation: 0.138 [-0.447, 0.903], loss: 2.190568, mean_absolute_error: 7.455416, mean_q: 14.155807\n",
      " 4074/5000: episode: 255, duration: 0.980s, episode steps: 57, steps per second: 58, episode reward: 57.000, mean reward: 1.000 [1.000, 1.000], mean action: 0.474 [0.000, 1.000], mean observation: -0.084 [-0.670, 0.545], loss: 1.885246, mean_absolute_error: 7.554325, mean_q: 14.418260\n",
      " 4114/5000: episode: 256, duration: 0.676s, episode steps: 40, steps per second: 59, episode reward: 40.000, mean reward: 1.000 [1.000, 1.000], mean action: 0.475 [0.000, 1.000], mean observation: -0.106 [-0.675, 0.233], loss: 2.616690, mean_absolute_error: 7.803355, mean_q: 14.833735\n",
      " 4190/5000: episode: 257, duration: 1.301s, episode steps: 76, steps per second: 58, episode reward: 76.000, mean reward: 1.000 [1.000, 1.000], mean action: 0.526 [0.000, 1.000], mean observation: 0.159 [-0.517, 0.940], loss: 1.867435, mean_absolute_error: 7.817492, mean_q: 14.974403\n",
      " 4251/5000: episode: 258, duration: 1.068s, episode steps: 61, steps per second: 57, episode reward: 61.000, mean reward: 1.000 [1.000, 1.000], mean action: 0.475 [0.000, 1.000], mean observation: -0.082 [-0.811, 0.465], loss: 2.431155, mean_absolute_error: 7.973098, mean_q: 15.221651\n",
      " 4300/5000: episode: 259, duration: 0.849s, episode steps: 49, steps per second: 58, episode reward: 49.000, mean reward: 1.000 [1.000, 1.000], mean action: 0.469 [0.000, 1.000], mean observation: -0.099 [-0.602, 0.190], loss: 2.254252, mean_absolute_error: 8.025190, mean_q: 15.303911\n",
      " 4349/5000: episode: 260, duration: 0.816s, episode steps: 49, steps per second: 60, episode reward: 49.000, mean reward: 1.000 [1.000, 1.000], mean action: 0.469 [0.000, 1.000], mean observation: -0.124 [-0.645, 0.212], loss: 2.839186, mean_absolute_error: 8.160426, mean_q: 15.539896\n",
      " 4448/5000: episode: 261, duration: 1.679s, episode steps: 99, steps per second: 59, episode reward: 99.000, mean reward: 1.000 [1.000, 1.000], mean action: 0.525 [0.000, 1.000], mean observation: 0.119 [-0.524, 0.891], loss: 2.313398, mean_absolute_error: 8.276261, mean_q: 15.822707\n",
      " 4519/5000: episode: 262, duration: 1.304s, episode steps: 71, steps per second: 54, episode reward: 71.000, mean reward: 1.000 [1.000, 1.000], mean action: 0.479 [0.000, 1.000], mean observation: -0.090 [-0.676, 0.362], loss: 2.266992, mean_absolute_error: 8.416885, mean_q: 16.155691\n",
      " 4616/5000: episode: 263, duration: 1.737s, episode steps: 97, steps per second: 56, episode reward: 97.000, mean reward: 1.000 [1.000, 1.000], mean action: 0.526 [0.000, 1.000], mean observation: 0.148 [-0.458, 0.894], loss: 2.561915, mean_absolute_error: 8.549986, mean_q: 16.356443\n",
      " 4653/5000: episode: 264, duration: 0.698s, episode steps: 37, steps per second: 53, episode reward: 37.000, mean reward: 1.000 [1.000, 1.000], mean action: 0.459 [0.000, 1.000], mean observation: -0.128 [-1.001, 0.388], loss: 2.568538, mean_absolute_error: 8.645621, mean_q: 16.533810\n",
      " 4718/5000: episode: 265, duration: 1.242s, episode steps: 65, steps per second: 52, episode reward: 65.000, mean reward: 1.000 [1.000, 1.000], mean action: 0.477 [0.000, 1.000], mean observation: -0.084 [-0.867, 0.536], loss: 2.189362, mean_absolute_error: 8.707166, mean_q: 16.741190\n",
      " 4765/5000: episode: 266, duration: 1.002s, episode steps: 47, steps per second: 47, episode reward: 47.000, mean reward: 1.000 [1.000, 1.000], mean action: 0.468 [0.000, 1.000], mean observation: -0.107 [-0.670, 0.212], loss: 2.563274, mean_absolute_error: 8.897520, mean_q: 17.123529\n",
      " 4801/5000: episode: 267, duration: 0.727s, episode steps: 36, steps per second: 50, episode reward: 36.000, mean reward: 1.000 [1.000, 1.000], mean action: 0.472 [0.000, 1.000], mean observation: -0.138 [-0.780, 0.183], loss: 3.108810, mean_absolute_error: 9.026580, mean_q: 17.265430\n",
      " 4866/5000: episode: 268, duration: 1.320s, episode steps: 65, steps per second: 49, episode reward: 65.000, mean reward: 1.000 [1.000, 1.000], mean action: 0.477 [0.000, 1.000], mean observation: -0.086 [-0.652, 0.382], loss: 1.967161, mean_absolute_error: 8.956245, mean_q: 17.298061\n",
      " 4914/5000: episode: 269, duration: 0.890s, episode steps: 48, steps per second: 54, episode reward: 48.000, mean reward: 1.000 [1.000, 1.000], mean action: 0.479 [0.000, 1.000], mean observation: -0.125 [-0.748, 0.313], loss: 3.428305, mean_absolute_error: 9.043890, mean_q: 17.222191\n",
      "done, took 92.103 seconds\n"
     ]
    },
    {
     "data": {
      "text/plain": [
       "<keras.callbacks.History at 0x7ff6dc2e7208>"
      ]
     },
     "execution_count": 11,
     "metadata": {},
     "output_type": "execute_result"
    }
   ],
   "source": [
    "dqn.fit(env, nb_steps=5000, visualize=True, verbose=2)"
   ]
  },
  {
   "cell_type": "code",
   "execution_count": 12,
   "metadata": {
    "collapsed": true
   },
   "outputs": [],
   "source": [
    "env.close()"
   ]
  },
  {
   "cell_type": "code",
   "execution_count": 13,
   "metadata": {},
   "outputs": [
    {
     "name": "stdout",
     "output_type": "stream",
     "text": [
      "Testing for 5 episodes ...\n",
      "Episode 1: reward: 43.000, steps: 43\n",
      "Episode 2: reward: 92.000, steps: 92\n",
      "Episode 3: reward: 117.000, steps: 117\n",
      "Episode 4: reward: 40.000, steps: 40\n",
      "Episode 5: reward: 67.000, steps: 67\n"
     ]
    },
    {
     "data": {
      "text/plain": [
       "<keras.callbacks.History at 0x7ff69c76d320>"
      ]
     },
     "execution_count": 13,
     "metadata": {},
     "output_type": "execute_result"
    }
   ],
   "source": [
    "dqn.test(env, nb_episodes=5, visualize=True)"
   ]
  },
  {
   "cell_type": "code",
   "execution_count": 14,
   "metadata": {
    "collapsed": true
   },
   "outputs": [],
   "source": [
    "env.close()"
   ]
  },
  {
   "cell_type": "code",
   "execution_count": null,
   "metadata": {
    "collapsed": true
   },
   "outputs": [],
   "source": []
  }
 ],
 "metadata": {
  "kernelspec": {
   "display_name": "Python 3",
   "language": "python",
   "name": "python3"
  },
  "language_info": {
   "codemirror_mode": {
    "name": "ipython",
    "version": 3
   },
   "file_extension": ".py",
   "mimetype": "text/x-python",
   "name": "python",
   "nbconvert_exporter": "python",
   "pygments_lexer": "ipython3",
   "version": "3.6.8"
  }
 },
 "nbformat": 4,
 "nbformat_minor": 2
}
